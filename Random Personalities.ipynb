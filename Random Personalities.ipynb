{
 "metadata": {
  "name": "",
  "signature": "sha256:e8a2159fce377341e9f2b9fefadb1866c6172319747de2504da5de1e9b3c186e"
 },
 "nbformat": 3,
 "nbformat_minor": 0,
 "worksheets": [
  {
   "cells": [
    {
     "cell_type": "code",
     "collapsed": false,
     "input": [
      "%load_ext autoreload\n",
      "%matplotlib inline\n",
      "%autoreload 2\n",
      "from personality import Personality, CuisinePersonality, ExampleSet, create_mtc_question, load_example_sets, save_example_sets, collect_hit_responses\n",
      "from boto.mturk.connection import MTurkConnection\n",
      "import os\n",
      "from IPython.display import display, HTML\n",
      "\n",
      "mtc = MTurkConnection(aws_access_key_id=os.environ['AWS_PENG_ID'],\n",
      "                      aws_secret_access_key=os.environ['AWS_PENG_SECRET'],\n",
      "                      host=\"mechanicalturk.amazonaws.com\")"
     ],
     "language": "python",
     "metadata": {},
     "outputs": [
      {
       "output_type": "stream",
       "stream": "stderr",
       "text": [
        "/Users/jonathanraiman/Documents/Master/research/deep_learning/objectlm/personality/personality.py:9: UserWarning: Could not connect to MongoDB database `yelp`\n",
        "  warn(\"Could not connect to MongoDB database `yelp`\")\n"
       ]
      }
     ],
     "prompt_number": 1
    },
    {
     "cell_type": "code",
     "collapsed": false,
     "input": [
      "mtc.get_account_balance()"
     ],
     "language": "python",
     "metadata": {},
     "outputs": [
      {
       "metadata": {},
       "output_type": "pyout",
       "prompt_number": 2,
       "text": [
        "[$2.72]"
       ]
      }
     ],
     "prompt_number": 2
    },
    {
     "cell_type": "code",
     "collapsed": false,
     "input": [
      "personalities, example_sets = create_personalities_examples(12)\n",
      "\n",
      "def create_personalities(num_examples):\n",
      "    cheap_personality = Personality(lambda el: len(el[\"price\"]) < 2)\n",
      "\n",
      "    favorites = [\n",
      "        ([\"burgers\", \"hotdogs\"], []),\n",
      "        ([\"vietnamese\", \"thai\", \"chinese\", \"korean\", \"japanese\", \"sushi\", \"szechuan\", \"taiwanese\"],[]),\n",
      "        ([\"italian\", \"mediterranean\"],[]),\n",
      "        ([\"mexican\", \"spanish\", \"argentine\", \"tex-mex\"],[]),\n",
      "        ([\"asianfusion\", \"french\", \"gluten_free\", \"gourmet\", \"asianfusion\"], [\"bakeries\", \"japanese\", \"pizza\", \"burgers\", \"sandwiches\", \"buffets\"]),\n",
      "        ([\"cafes\",\"tea\"], [\"breakfast_brunch\", \"tradamerican\"])\n",
      "    ]\n",
      "\n",
      "    cuisine_personalities = [CuisinePersonality(favorite) for favorite in favorites]\n",
      "\n",
      "    rating_personality = Personality(lambda el: el[\"rating\"] > 3.5)\n",
      "\n",
      "    value_personality = Personality(lambda el: (el[\"rating\"] - len(el[\"price\"])) >= 1.9)\n",
      "    personalities = []\n",
      "\n",
      "    personalities.append(cheap_personality)\n",
      "    personalities.extend(cuisine_personalities)\n",
      "    personalities.append(rating_personality)\n",
      "    personalities.append(value_personality)\n",
      "\n",
      "    for personality in personalities:\n",
      "        personality.generate_samples(num_examples)\n",
      "    return personalities\n",
      "\n",
      "def create_new_examples(personalities, savepath):\n",
      "    example_sets = []\n",
      "    for personality in personalities:\n",
      "        pers_type = None\n",
      "        if personality is cheap_personality:\n",
      "            pers_type = 0\n",
      "        if personality in cuisine_personalities:\n",
      "            pers_type = 1\n",
      "        if personality is rating_personality:\n",
      "            pers_type = 2\n",
      "        if personality is value_personality:\n",
      "            pers_type = 3\n",
      "        for i in range(12):\n",
      "            options = [\n",
      "                    personality.generate_bad_sample(),\n",
      "                    personality.good_examples[i * 4 + 3],\n",
      "                    personality.generate_bad_sample()\n",
      "                ]\n",
      "            random.shuffle(options)\n",
      "            example_sets.append(ExampleSet(\n",
      "                personality.good_examples[i*4: i*4 + 3],\n",
      "                options,\n",
      "                personality_type = pers_type,\n",
      "                difficulty=\"easy\"))\n",
      "    return example_sets"
     ],
     "language": "python",
     "metadata": {},
     "outputs": [],
     "prompt_number": 4
    },
    {
     "cell_type": "markdown",
     "metadata": {},
     "source": [
      "Cached ExampleSets are kept in a pickled file to store & later compare them to their responses:"
     ]
    },
    {
     "cell_type": "code",
     "collapsed": false,
     "input": [
      "loaded_example_sets = load_example_sets(\"saves/example_sets.pkz\")"
     ],
     "language": "python",
     "metadata": {},
     "outputs": [],
     "prompt_number": 3
    },
    {
     "cell_type": "markdown",
     "metadata": {},
     "source": [
      "Create a Mechanical Turk question from an ExampleSet by using the `create_mtc_question` method with a reward in USD; and remember that the amount you put will be increased by 10% to account for Amazon's share of the pie:"
     ]
    },
    {
     "cell_type": "code",
     "collapsed": false,
     "input": [
      "create_mtc_question(mtc, loaded_example_sets[i], reward=0.45)"
     ],
     "language": "python",
     "metadata": {},
     "outputs": []
    },
    {
     "cell_type": "markdown",
     "metadata": {},
     "source": [
      "Get all the responses to the current **HIT**s on Mechanical Turk by calling `collect_hit_responses`:"
     ]
    },
    {
     "cell_type": "code",
     "collapsed": false,
     "input": [
      "responses_to_hits = collect_hit_responses(mtc)"
     ],
     "language": "python",
     "metadata": {},
     "outputs": [],
     "prompt_number": 3
    },
    {
     "cell_type": "markdown",
     "metadata": {},
     "source": [
      "or, get the responses to a given Example Set by calling `get_responeses` on an example:"
     ]
    },
    {
     "cell_type": "code",
     "collapsed": false,
     "input": [
      "loaded_example_sets[0].get_responses(mtc)"
     ],
     "language": "python",
     "metadata": {},
     "outputs": [
      {
       "metadata": {},
       "output_type": "pyout",
       "prompt_number": 10,
       "text": [
        "[{'HITId': '37NXA7GVST60XGJ8CFC3X6Q6FSZLVZ',\n",
        "  'explanation': 'cuisine',\n",
        "  'difficulty': 'easy',\n",
        "  'input_restaurants': \"'Mike\u2019s Chili Parlor', 'Dome Burger', 'Triangle Pub'\",\n",
        "  'recommendation': 'Palace',\n",
        "  'personality_type': '0',\n",
        "  'explanation_comments': 'It seems like a very nice restaurant with big portions and tasty food!'},\n",
        " {'HITId': '37NXA7GVST60XGJ8CFC3X6Q6FSZLVZ',\n",
        "  'explanation': 'style',\n",
        "  'difficulty': 'easy',\n",
        "  'input_restaurants': \"'Mike\u2019s Chili Parlor', 'Dome Burger', 'Triangle Pub'\",\n",
        "  'recommendation': 'Cafe',\n",
        "  'personality_type': '0',\n",
        "  'explanation_comments': 'Cafe Mox has an all-American style food and also serves adult beverages just like the sports bar and seems to have the same number of star ratings as their picks.'},\n",
        " {'HITId': '37NXA7GVST60XGJ8CFC3X6Q6FSZLVZ',\n",
        "  'explanation': 'style',\n",
        "  'difficulty': 'easy',\n",
        "  'input_restaurants': \"'Mike\u2019s Chili Parlor', 'Dome Burger', 'Triangle Pub'\",\n",
        "  'recommendation': 'Cafe',\n",
        "  'personality_type': '0',\n",
        "  'explanation_comments': \"You're a down-to-earth kind of guy. I don't think you'd like Palace Kitchen, it's too yuppy for your taste. I suspect you wouldn't like the flavors at Santi's Kitchen. Grilled cheese sounds like more your kind of food!\"}]"
       ]
      }
     ],
     "prompt_number": 10
    },
    {
     "cell_type": "code",
     "collapsed": false,
     "input": [],
     "language": "python",
     "metadata": {},
     "outputs": []
    }
   ],
   "metadata": {}
  }
 ]
}