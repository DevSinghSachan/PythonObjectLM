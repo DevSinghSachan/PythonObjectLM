{
 "metadata": {
  "name": "",
  "signature": "sha256:a557506e7ea4ad1acc9c53b1a89dea301be90405b859788b27573319d24e021a"
 },
 "nbformat": 3,
 "nbformat_minor": 0,
 "worksheets": [
  {
   "cells": [
    {
     "cell_type": "code",
     "collapsed": false,
     "input": [
      "%load_ext autoreload\n",
      "%matplotlib inline\n",
      "%autoreload 2\n",
      "from personality import Personality, CuisinePersonality, ExampleSet, create_mtc_question, load_example_sets, save_example_sets\n",
      "from boto.mturk.connection import MTurkConnection\n",
      "import os\n",
      "from IPython.display import display, HTML\n",
      "\n",
      "mtc = MTurkConnection(aws_access_key_id=os.environ['AWS_ID'],\n",
      "                      aws_secret_access_key=os.environ['AWS_SECRET'],\n",
      "                      host=\"mechanicalturk.amazonaws.com\")"
     ],
     "language": "python",
     "metadata": {},
     "outputs": [],
     "prompt_number": 1
    },
    {
     "cell_type": "code",
     "collapsed": false,
     "input": [
      "NUM_EXAMPLES = 100\n",
      "\n",
      "cheap_personality = Personality(lambda el: len(el[\"price\"]) < 2)\n",
      "\n",
      "favorites = [\n",
      "    ([\"burgers\", \"hotdogs\"], []),\n",
      "    ([\"vietnamese\", \"thai\", \"chinese\", \"korean\", \"japanese\", \"sushi\", \"szechuan\", \"taiwanese\"],[]),\n",
      "    ([\"italian\", \"mediterranean\"],[]),\n",
      "    ([\"mexican\", \"spanish\", \"argentine\", \"tex-mex\"],[]),\n",
      "    ([\"asianfusion\", \"french\", \"gluten_free\", \"gourmet\", \"asianfusion\"], [\"bakeries\", \"japanese\", \"pizza\", \"burgers\", \"sandwiches\", \"buffets\"]),\n",
      "    ([\"cafes\",\"tea\"], [\"breakfast_brunch\", \"tradamerican\"])\n",
      "]\n",
      "\n",
      "cuisine_personalities = [CuisinePersonality(favorite) for favorite in favorites]\n",
      "\n",
      "rating_personality = Personality(lambda el: el[\"rating\"] > 3.5)\n",
      "\n",
      "value_personality = Personality(lambda el: (el[\"rating\"] - len(el[\"price\"])) >= 1.9)\n",
      "personalities = []\n",
      "\n",
      "personalities.append(cheap_personality)\n",
      "personalities.extend(cuisine_personalities)\n",
      "personalities.append(rating_personality)\n",
      "personalities.append(value_personality)\n",
      "\n",
      "for personality in personalities:\n",
      "    personality.generate_samples(NUM_EXAMPLES)"
     ],
     "language": "python",
     "metadata": {},
     "outputs": [],
     "prompt_number": 4
    },
    {
     "cell_type": "code",
     "collapsed": false,
     "input": [
      "example_sets = []  our favorite person from upstairs is here talking zith derek but i think aui\n",
      "\n",
      "for personality in personalities:\n",
      "    pers_type = None\n",
      "    if personality is cheap_personality:\n",
      "        pers_type = 0\n",
      "    if personality in cuisine_personalities:\n",
      "        pers_type = 1\n",
      "    if personality is rating_personality:\n",
      "        pers_type = 2\n",
      "    if personality is value_personality:\n",
      "        pers_type = 3\n",
      "        \n",
      "    for i in range(12):\n",
      "        options = [\n",
      "                personality.generate_bad_sample(),\n",
      "                personality.good_examples[i * 4 + 3],\n",
      "                personality.generate_bad_sample()\n",
      "            ]\n",
      "        random.shuffle(options)\n",
      "        example_sets.append(ExampleSet(\n",
      "            personality.good_examples[i*4: i*4 + 3],\n",
      "            options,\n",
      "            personality_type = pers_type,\n",
      "            difficulty=\"easy\"))"
     ],
     "language": "python",
     "metadata": {},
     "outputs": [],
     "prompt_number": 17
    },
    {
     "cell_type": "code",
     "collapsed": false,
     "input": [
      "loaded_example_sets = load_example_sets(\"saves/example_sets.pkz\")"
     ],
     "language": "python",
     "metadata": {},
     "outputs": [],
     "prompt_number": 2
    },
    {
     "cell_type": "code",
     "collapsed": false,
     "input": [
      "create_mtc_question(mtc, loaded_example_sets[0], reward = 0.45)"
     ],
     "language": "python",
     "metadata": {},
     "outputs": [
      {
       "metadata": {},
       "output_type": "pyout",
       "prompt_number": 8,
       "text": [
        "[<boto.mturk.connection.HIT at 0x10c74b9e8>]"
       ]
      }
     ],
     "prompt_number": 8
    },
    {
     "cell_type": "code",
     "collapsed": false,
     "input": [
      "mtc.get_account_balance()"
     ],
     "language": "python",
     "metadata": {},
     "outputs": [
      {
       "metadata": {},
       "output_type": "pyout",
       "prompt_number": 9,
       "text": [
        "[$8.515]"
       ]
      }
     ],
     "prompt_number": 9
    },
    {
     "cell_type": "code",
     "collapsed": false,
     "input": [
      "create_mtc_question(mtc, loaded_example_sets[1], reward = 0.45)"
     ],
     "language": "python",
     "metadata": {},
     "outputs": [
      {
       "metadata": {},
       "output_type": "pyout",
       "prompt_number": 10,
       "text": [
        "[<boto.mturk.connection.HIT at 0x10c74bfd0>]"
       ]
      }
     ],
     "prompt_number": 10
    },
    {
     "cell_type": "code",
     "collapsed": false,
     "input": [
      "mtc.get_account_balance()"
     ],
     "language": "python",
     "metadata": {},
     "outputs": [
      {
       "metadata": {},
       "output_type": "pyout",
       "prompt_number": 11,
       "text": [
        "[$7.03]"
       ]
      }
     ],
     "prompt_number": 11
    },
    {
     "cell_type": "code",
     "collapsed": false,
     "input": [
      "create_mtc_question(mtc, loaded_example_sets[2], reward = 0.45)"
     ],
     "language": "python",
     "metadata": {},
     "outputs": [
      {
       "metadata": {},
       "output_type": "pyout",
       "prompt_number": 12,
       "text": [
        "[<boto.mturk.connection.HIT at 0x10c74d5c0>]"
       ]
      }
     ],
     "prompt_number": 12
    },
    {
     "cell_type": "code",
     "collapsed": false,
     "input": [
      "mtc.get_account_balance()"
     ],
     "language": "python",
     "metadata": {},
     "outputs": [
      {
       "metadata": {},
       "output_type": "pyout",
       "prompt_number": 13,
       "text": [
        "[$5.545]"
       ]
      }
     ],
     "prompt_number": 13
    },
    {
     "cell_type": "code",
     "collapsed": false,
     "input": [
      "create_mtc_question(mtc, loaded_example_sets[3], reward = 0.45)"
     ],
     "language": "python",
     "metadata": {},
     "outputs": [
      {
       "metadata": {},
       "output_type": "pyout",
       "prompt_number": 14,
       "text": [
        "[<boto.mturk.connection.HIT at 0x10c74db38>]"
       ]
      }
     ],
     "prompt_number": 14
    },
    {
     "cell_type": "code",
     "collapsed": false,
     "input": [
      "mtc.get_account_balance()"
     ],
     "language": "python",
     "metadata": {},
     "outputs": [
      {
       "metadata": {},
       "output_type": "pyout",
       "prompt_number": 15,
       "text": [
        "[$4.06]"
       ]
      }
     ],
     "prompt_number": 15
    },
    {
     "cell_type": "code",
     "collapsed": false,
     "input": [],
     "language": "python",
     "metadata": {},
     "outputs": []
    }
   ],
   "metadata": {}
  }
 ]
}