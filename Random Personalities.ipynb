{
 "metadata": {
  "name": "",
  "signature": "sha256:6dabd7188f91f3ae11b0e0eb2b9dc757dd351ebdc71fcee50bacea71e7414944"
 },
 "nbformat": 3,
 "nbformat_minor": 0,
 "worksheets": [
  {
   "cells": [
    {
     "cell_type": "code",
     "collapsed": false,
     "input": [
      "%load_ext autoreload\n",
      "%matplotlib inline\n",
      "%autoreload 2\n",
      "from personality import Personality, CuisinePersonality, ExampleSet, create_mtc_question, load_example_sets, save_example_sets, collect_hit_responses\n",
      "from boto.mturk.connection import MTurkConnection\n",
      "import os\n",
      "from IPython.display import display, HTML\n",
      "\n",
      "mtc = MTurkConnection(aws_access_key_id=os.environ['AWS_PENG_ID'],\n",
      "                      aws_secret_access_key=os.environ['AWS_PENG_SECRET'],\n",
      "                      host=\"mechanicalturk.amazonaws.com\")"
     ],
     "language": "python",
     "metadata": {},
     "outputs": [
      {
       "output_type": "stream",
       "stream": "stdout",
       "text": [
        "The autoreload extension is already loaded. To reload it, use:\n",
        "  %reload_ext autoreload\n"
       ]
      }
     ],
     "prompt_number": 14
    },
    {
     "cell_type": "code",
     "collapsed": false,
     "input": [
      "mtc.get_account_balance()"
     ],
     "language": "python",
     "metadata": {},
     "outputs": [
      {
       "metadata": {},
       "output_type": "pyout",
       "prompt_number": 12,
       "text": [
        "[$2.72]"
       ]
      }
     ],
     "prompt_number": 12
    },
    {
     "cell_type": "code",
     "collapsed": false,
     "input": [
      "personalities, example_sets = create_personalities_examples(12)\n",
      "\n",
      "def create_personalities(num_examples):\n",
      "    cheap_personality = Personality(lambda el: len(el[\"price\"]) < 2)\n",
      "\n",
      "    favorites = [\n",
      "        ([\"burgers\", \"hotdogs\"], []),\n",
      "        ([\"vietnamese\", \"thai\", \"chinese\", \"korean\", \"japanese\", \"sushi\", \"szechuan\", \"taiwanese\"],[]),\n",
      "        ([\"italian\", \"mediterranean\"],[]),\n",
      "        ([\"mexican\", \"spanish\", \"argentine\", \"tex-mex\"],[]),\n",
      "        ([\"asianfusion\", \"french\", \"gluten_free\", \"gourmet\", \"asianfusion\"], [\"bakeries\", \"japanese\", \"pizza\", \"burgers\", \"sandwiches\", \"buffets\"]),\n",
      "        ([\"cafes\",\"tea\"], [\"breakfast_brunch\", \"tradamerican\"])\n",
      "    ]\n",
      "\n",
      "    cuisine_personalities = [CuisinePersonality(favorite) for favorite in favorites]\n",
      "\n",
      "    rating_personality = Personality(lambda el: el[\"rating\"] > 3.5)\n",
      "\n",
      "    value_personality = Personality(lambda el: (el[\"rating\"] - len(el[\"price\"])) >= 1.9)\n",
      "    personalities = []\n",
      "\n",
      "    personalities.append(cheap_personality)\n",
      "    personalities.extend(cuisine_personalities)\n",
      "    personalities.append(rating_personality)\n",
      "    personalities.append(value_personality)\n",
      "\n",
      "    for personality in personalities:\n",
      "        personality.generate_samples(num_examples)\n",
      "    return personalities\n",
      "\n",
      "def create_new_examples(personalities, savepath):\n",
      "    example_sets = []\n",
      "    for personality in personalities:\n",
      "        pers_type = None\n",
      "        if personality is cheap_personality:\n",
      "            pers_type = 0\n",
      "        if personality in cuisine_personalities:\n",
      "            pers_type = 1\n",
      "        if personality is rating_personality:\n",
      "            pers_type = 2\n",
      "        if personality is value_personality:\n",
      "            pers_type = 3\n",
      "        for i in range(12):\n",
      "            options = [\n",
      "                    personality.generate_bad_sample(),\n",
      "                    personality.good_examples[i * 4 + 3],\n",
      "                    personality.generate_bad_sample()\n",
      "                ]\n",
      "            random.shuffle(options)\n",
      "            example_sets.append(ExampleSet(\n",
      "                personality.good_examples[i*4: i*4 + 3],\n",
      "                options,\n",
      "                personality_type = pers_type,\n",
      "                difficulty=\"easy\"))\n",
      "    return example_sets"
     ],
     "language": "python",
     "metadata": {},
     "outputs": [],
     "prompt_number": 4
    },
    {
     "cell_type": "markdown",
     "metadata": {},
     "source": [
      "Cached ExampleSets are kept in a pickled file to store & later compare them to their responses:"
     ]
    },
    {
     "cell_type": "code",
     "collapsed": false,
     "input": [
      "loaded_example_sets = load_example_sets(\"saves/example_sets.pkz\")"
     ],
     "language": "python",
     "metadata": {},
     "outputs": [],
     "prompt_number": 3
    },
    {
     "cell_type": "markdown",
     "metadata": {},
     "source": [
      "Create a Mechanical Turk question from an ExampleSet by using the `create_mtc_question` method with a reward in USD; and remember that the amount you put will be increased by 10% to account for Amazon's share of the pie:"
     ]
    },
    {
     "cell_type": "code",
     "collapsed": false,
     "input": [
      "create_mtc_question(mtc, loaded_example_sets[i], reward=0.45)"
     ],
     "language": "python",
     "metadata": {},
     "outputs": []
    },
    {
     "cell_type": "markdown",
     "metadata": {},
     "source": [
      "Get all the responses to the current **HIT**s on Mechanical Turk by calling `collect_hit_responses`:"
     ]
    },
    {
     "cell_type": "code",
     "collapsed": false,
     "input": [
      "responses_to_hits = collect_hit_responses(mtc)"
     ],
     "language": "python",
     "metadata": {},
     "outputs": [],
     "prompt_number": 13
    },
    {
     "cell_type": "markdown",
     "metadata": {},
     "source": [
      "or, get the responses to a given Example Set by calling `get_responeses` on an example:"
     ]
    },
    {
     "cell_type": "code",
     "collapsed": false,
     "input": [
      "loaded_example_sets[0].get_responses(mtc)"
     ],
     "language": "python",
     "metadata": {},
     "outputs": [
      {
       "metadata": {},
       "output_type": "pyout",
       "prompt_number": 10,
       "text": [
        "[{'HITId': '37NXA7GVST60XGJ8CFC3X6Q6FSZLVZ',\n",
        "  'explanation': 'cuisine',\n",
        "  'difficulty': 'easy',\n",
        "  'input_restaurants': \"'Mike\u2019s Chili Parlor', 'Dome Burger', 'Triangle Pub'\",\n",
        "  'recommendation': 'Palace',\n",
        "  'personality_type': '0',\n",
        "  'explanation_comments': 'It seems like a very nice restaurant with big portions and tasty food!'},\n",
        " {'HITId': '37NXA7GVST60XGJ8CFC3X6Q6FSZLVZ',\n",
        "  'explanation': 'style',\n",
        "  'difficulty': 'easy',\n",
        "  'input_restaurants': \"'Mike\u2019s Chili Parlor', 'Dome Burger', 'Triangle Pub'\",\n",
        "  'recommendation': 'Cafe',\n",
        "  'personality_type': '0',\n",
        "  'explanation_comments': 'Cafe Mox has an all-American style food and also serves adult beverages just like the sports bar and seems to have the same number of star ratings as their picks.'},\n",
        " {'HITId': '37NXA7GVST60XGJ8CFC3X6Q6FSZLVZ',\n",
        "  'explanation': 'style',\n",
        "  'difficulty': 'easy',\n",
        "  'input_restaurants': \"'Mike\u2019s Chili Parlor', 'Dome Burger', 'Triangle Pub'\",\n",
        "  'recommendation': 'Cafe',\n",
        "  'personality_type': '0',\n",
        "  'explanation_comments': \"You're a down-to-earth kind of guy. I don't think you'd like Palace Kitchen, it's too yuppy for your taste. I suspect you wouldn't like the flavors at Santi's Kitchen. Grilled cheese sounds like more your kind of food!\"}]"
       ]
      }
     ],
     "prompt_number": 10
    },
    {
     "cell_type": "code",
     "collapsed": false,
     "input": [
      "for k, example in enumerate(loaded_example_sets):\n",
      "    print(\"uploading example %d\" % (k))\n",
      "    if not hasattr(example, \"HITId\"):\n",
      "        create_mtc_question(mtc, example, reward=0.4)\n",
      "        \n",
      "    if k % 10 == 0:\n",
      "        print(\"Current account balance is %r\" % (mtc.get_account_balance()))"
     ],
     "language": "python",
     "metadata": {},
     "outputs": [
      {
       "output_type": "stream",
       "stream": "stdout",
       "text": [
        "uploading example 0\n",
        "Current account balance is [$140.00]"
       ]
      },
      {
       "output_type": "stream",
       "stream": "stdout",
       "text": [
        "\n",
        "uploading example 1\n",
        "uploading example 2\n",
        "uploading example 3\n",
        "uploading example 4\n",
        "uploading example 5"
       ]
      },
      {
       "output_type": "stream",
       "stream": "stdout",
       "text": [
        "\n",
        "uploading example 6"
       ]
      },
      {
       "output_type": "stream",
       "stream": "stdout",
       "text": [
        "\n",
        "uploading example 7"
       ]
      },
      {
       "output_type": "stream",
       "stream": "stdout",
       "text": [
        "\n",
        "uploading example 8"
       ]
      },
      {
       "output_type": "stream",
       "stream": "stdout",
       "text": [
        "\n",
        "uploading example 9"
       ]
      },
      {
       "output_type": "stream",
       "stream": "stdout",
       "text": [
        "\n",
        "uploading example 10"
       ]
      },
      {
       "output_type": "stream",
       "stream": "stdout",
       "text": [
        "\n",
        "Current account balance is [$130.76]"
       ]
      },
      {
       "output_type": "stream",
       "stream": "stdout",
       "text": [
        "\n",
        "uploading example 11\n",
        "uploading example 12"
       ]
      },
      {
       "output_type": "stream",
       "stream": "stdout",
       "text": [
        "\n",
        "uploading example 13"
       ]
      },
      {
       "output_type": "stream",
       "stream": "stdout",
       "text": [
        "\n",
        "uploading example 14"
       ]
      },
      {
       "output_type": "stream",
       "stream": "stdout",
       "text": [
        "\n",
        "uploading example 15"
       ]
      },
      {
       "output_type": "stream",
       "stream": "stdout",
       "text": [
        "\n",
        "uploading example 16"
       ]
      },
      {
       "output_type": "stream",
       "stream": "stdout",
       "text": [
        "\n",
        "uploading example 17"
       ]
      },
      {
       "output_type": "stream",
       "stream": "stdout",
       "text": [
        "\n",
        "uploading example 18"
       ]
      },
      {
       "output_type": "stream",
       "stream": "stdout",
       "text": [
        "\n",
        "uploading example 19"
       ]
      },
      {
       "output_type": "stream",
       "stream": "stdout",
       "text": [
        "\n",
        "uploading example 20"
       ]
      },
      {
       "output_type": "stream",
       "stream": "stdout",
       "text": [
        "\n",
        "Current account balance is [$117.56]"
       ]
      },
      {
       "output_type": "stream",
       "stream": "stdout",
       "text": [
        "\n",
        "uploading example 21\n",
        "uploading example 22"
       ]
      },
      {
       "output_type": "stream",
       "stream": "stdout",
       "text": [
        "\n",
        "uploading example 23"
       ]
      },
      {
       "output_type": "stream",
       "stream": "stdout",
       "text": [
        "\n",
        "uploading example 24"
       ]
      },
      {
       "output_type": "stream",
       "stream": "stdout",
       "text": [
        "\n",
        "uploading example 25"
       ]
      },
      {
       "output_type": "stream",
       "stream": "stdout",
       "text": [
        "\n",
        "uploading example 26"
       ]
      },
      {
       "output_type": "stream",
       "stream": "stdout",
       "text": [
        "\n",
        "uploading example 27"
       ]
      },
      {
       "output_type": "stream",
       "stream": "stdout",
       "text": [
        "\n",
        "uploading example 28"
       ]
      },
      {
       "output_type": "stream",
       "stream": "stdout",
       "text": [
        "\n",
        "uploading example 29"
       ]
      },
      {
       "output_type": "stream",
       "stream": "stdout",
       "text": [
        "\n",
        "uploading example 30"
       ]
      },
      {
       "output_type": "stream",
       "stream": "stdout",
       "text": [
        "\n",
        "Current account balance is [$104.36]"
       ]
      },
      {
       "output_type": "stream",
       "stream": "stdout",
       "text": [
        "\n",
        "uploading example 31\n",
        "uploading example 32"
       ]
      },
      {
       "output_type": "stream",
       "stream": "stdout",
       "text": [
        "\n",
        "uploading example 33"
       ]
      },
      {
       "output_type": "stream",
       "stream": "stdout",
       "text": [
        "\n",
        "uploading example 34"
       ]
      },
      {
       "output_type": "stream",
       "stream": "stdout",
       "text": [
        "\n",
        "uploading example 35"
       ]
      },
      {
       "output_type": "stream",
       "stream": "stdout",
       "text": [
        "\n",
        "uploading example 36"
       ]
      },
      {
       "output_type": "stream",
       "stream": "stdout",
       "text": [
        "\n",
        "uploading example 37"
       ]
      },
      {
       "output_type": "stream",
       "stream": "stdout",
       "text": [
        "\n",
        "uploading example 38"
       ]
      },
      {
       "output_type": "stream",
       "stream": "stdout",
       "text": [
        "\n",
        "uploading example 39"
       ]
      },
      {
       "output_type": "stream",
       "stream": "stdout",
       "text": [
        "\n",
        "uploading example 40"
       ]
      },
      {
       "output_type": "stream",
       "stream": "stdout",
       "text": [
        "\n",
        "Current account balance is [$91.16]"
       ]
      },
      {
       "output_type": "stream",
       "stream": "stdout",
       "text": [
        "\n",
        "uploading example 41\n",
        "uploading example 42"
       ]
      },
      {
       "output_type": "stream",
       "stream": "stdout",
       "text": [
        "\n",
        "uploading example 43"
       ]
      },
      {
       "output_type": "stream",
       "stream": "stdout",
       "text": [
        "\n",
        "uploading example 44"
       ]
      },
      {
       "output_type": "stream",
       "stream": "stdout",
       "text": [
        "\n",
        "uploading example 45"
       ]
      },
      {
       "output_type": "stream",
       "stream": "stdout",
       "text": [
        "\n",
        "uploading example 46"
       ]
      },
      {
       "output_type": "stream",
       "stream": "stdout",
       "text": [
        "\n",
        "uploading example 47"
       ]
      },
      {
       "output_type": "stream",
       "stream": "stdout",
       "text": [
        "\n",
        "uploading example 48"
       ]
      },
      {
       "output_type": "stream",
       "stream": "stdout",
       "text": [
        "\n",
        "uploading example 49"
       ]
      },
      {
       "output_type": "stream",
       "stream": "stdout",
       "text": [
        "\n",
        "uploading example 50"
       ]
      },
      {
       "output_type": "stream",
       "stream": "stdout",
       "text": [
        "\n",
        "Current account balance is [$77.96]"
       ]
      },
      {
       "output_type": "stream",
       "stream": "stdout",
       "text": [
        "\n",
        "uploading example 51\n",
        "uploading example 52"
       ]
      },
      {
       "output_type": "stream",
       "stream": "stdout",
       "text": [
        "\n",
        "uploading example 53"
       ]
      },
      {
       "output_type": "stream",
       "stream": "stdout",
       "text": [
        "\n",
        "uploading example 54"
       ]
      },
      {
       "output_type": "stream",
       "stream": "stdout",
       "text": [
        "\n",
        "uploading example 55"
       ]
      },
      {
       "output_type": "stream",
       "stream": "stdout",
       "text": [
        "\n",
        "uploading example 56"
       ]
      },
      {
       "output_type": "stream",
       "stream": "stdout",
       "text": [
        "\n",
        "uploading example 57"
       ]
      },
      {
       "output_type": "stream",
       "stream": "stdout",
       "text": [
        "\n",
        "uploading example 58"
       ]
      },
      {
       "output_type": "stream",
       "stream": "stdout",
       "text": [
        "\n",
        "uploading example 59"
       ]
      },
      {
       "output_type": "stream",
       "stream": "stdout",
       "text": [
        "\n",
        "uploading example 60"
       ]
      },
      {
       "output_type": "stream",
       "stream": "stdout",
       "text": [
        "\n",
        "Current account balance is [$64.76]"
       ]
      },
      {
       "output_type": "stream",
       "stream": "stdout",
       "text": [
        "\n",
        "uploading example 61\n",
        "uploading example 62"
       ]
      },
      {
       "output_type": "stream",
       "stream": "stdout",
       "text": [
        "\n",
        "uploading example 63"
       ]
      },
      {
       "output_type": "stream",
       "stream": "stdout",
       "text": [
        "\n",
        "uploading example 64"
       ]
      },
      {
       "output_type": "stream",
       "stream": "stdout",
       "text": [
        "\n",
        "uploading example 65"
       ]
      },
      {
       "output_type": "stream",
       "stream": "stdout",
       "text": [
        "\n",
        "uploading example 66"
       ]
      },
      {
       "output_type": "stream",
       "stream": "stdout",
       "text": [
        "\n",
        "uploading example 67"
       ]
      },
      {
       "output_type": "stream",
       "stream": "stdout",
       "text": [
        "\n",
        "uploading example 68"
       ]
      },
      {
       "output_type": "stream",
       "stream": "stdout",
       "text": [
        "\n",
        "uploading example 69"
       ]
      },
      {
       "output_type": "stream",
       "stream": "stdout",
       "text": [
        "\n",
        "uploading example 70"
       ]
      },
      {
       "output_type": "stream",
       "stream": "stdout",
       "text": [
        "\n",
        "Current account balance is [$51.56]"
       ]
      },
      {
       "output_type": "stream",
       "stream": "stdout",
       "text": [
        "\n",
        "uploading example 71\n",
        "uploading example 72"
       ]
      },
      {
       "output_type": "stream",
       "stream": "stdout",
       "text": [
        "\n",
        "uploading example 73"
       ]
      },
      {
       "output_type": "stream",
       "stream": "stdout",
       "text": [
        "\n",
        "uploading example 74"
       ]
      },
      {
       "output_type": "stream",
       "stream": "stdout",
       "text": [
        "\n",
        "uploading example 75"
       ]
      },
      {
       "output_type": "stream",
       "stream": "stdout",
       "text": [
        "\n",
        "uploading example 76"
       ]
      },
      {
       "output_type": "stream",
       "stream": "stdout",
       "text": [
        "\n",
        "uploading example 77"
       ]
      },
      {
       "output_type": "stream",
       "stream": "stdout",
       "text": [
        "\n",
        "uploading example 78"
       ]
      },
      {
       "output_type": "stream",
       "stream": "stdout",
       "text": [
        "\n",
        "uploading example 79"
       ]
      },
      {
       "output_type": "stream",
       "stream": "stdout",
       "text": [
        "\n",
        "uploading example 80"
       ]
      },
      {
       "output_type": "stream",
       "stream": "stdout",
       "text": [
        "\n",
        "Current account balance is [$38.36]"
       ]
      },
      {
       "output_type": "stream",
       "stream": "stdout",
       "text": [
        "\n",
        "uploading example 81\n",
        "uploading example 82"
       ]
      },
      {
       "output_type": "stream",
       "stream": "stdout",
       "text": [
        "\n",
        "uploading example 83"
       ]
      },
      {
       "output_type": "stream",
       "stream": "stdout",
       "text": [
        "\n",
        "uploading example 84"
       ]
      },
      {
       "output_type": "stream",
       "stream": "stdout",
       "text": [
        "\n",
        "uploading example 85"
       ]
      },
      {
       "output_type": "stream",
       "stream": "stdout",
       "text": [
        "\n",
        "uploading example 86"
       ]
      },
      {
       "output_type": "stream",
       "stream": "stdout",
       "text": [
        "\n",
        "uploading example 87"
       ]
      },
      {
       "output_type": "stream",
       "stream": "stdout",
       "text": [
        "\n",
        "uploading example 88"
       ]
      },
      {
       "output_type": "stream",
       "stream": "stdout",
       "text": [
        "\n",
        "uploading example 89"
       ]
      },
      {
       "output_type": "stream",
       "stream": "stdout",
       "text": [
        "\n",
        "uploading example 90"
       ]
      },
      {
       "output_type": "stream",
       "stream": "stdout",
       "text": [
        "\n",
        "Current account balance is [$25.16]"
       ]
      },
      {
       "output_type": "stream",
       "stream": "stdout",
       "text": [
        "\n",
        "uploading example 91\n",
        "uploading example 92"
       ]
      },
      {
       "output_type": "stream",
       "stream": "stdout",
       "text": [
        "\n",
        "uploading example 93"
       ]
      },
      {
       "output_type": "stream",
       "stream": "stdout",
       "text": [
        "\n",
        "uploading example 94"
       ]
      },
      {
       "output_type": "stream",
       "stream": "stdout",
       "text": [
        "\n",
        "uploading example 95"
       ]
      },
      {
       "output_type": "stream",
       "stream": "stdout",
       "text": [
        "\n",
        "uploading example 96"
       ]
      },
      {
       "output_type": "stream",
       "stream": "stdout",
       "text": [
        "\n",
        "uploading example 97"
       ]
      },
      {
       "output_type": "stream",
       "stream": "stdout",
       "text": [
        "\n",
        "uploading example 98"
       ]
      },
      {
       "output_type": "stream",
       "stream": "stdout",
       "text": [
        "\n",
        "uploading example 99"
       ]
      },
      {
       "output_type": "stream",
       "stream": "stdout",
       "text": [
        "\n",
        "uploading example 100"
       ]
      },
      {
       "output_type": "stream",
       "stream": "stdout",
       "text": [
        "\n",
        "Current account balance is [$11.96]"
       ]
      },
      {
       "output_type": "stream",
       "stream": "stdout",
       "text": [
        "\n",
        "uploading example 101\n",
        "uploading example 102"
       ]
      },
      {
       "output_type": "stream",
       "stream": "stdout",
       "text": [
        "\n",
        "uploading example 103"
       ]
      },
      {
       "output_type": "stream",
       "stream": "stdout",
       "text": [
        "\n",
        "uploading example 104"
       ]
      },
      {
       "output_type": "stream",
       "stream": "stdout",
       "text": [
        "\n",
        "uploading example 105"
       ]
      },
      {
       "output_type": "stream",
       "stream": "stdout",
       "text": [
        "\n",
        "uploading example 106"
       ]
      },
      {
       "output_type": "stream",
       "stream": "stdout",
       "text": [
        "\n",
        "uploading example 107"
       ]
      },
      {
       "output_type": "stream",
       "stream": "stdout",
       "text": [
        "\n"
       ]
      }
     ],
     "prompt_number": 5
    },
    {
     "cell_type": "code",
     "collapsed": false,
     "input": [],
     "language": "python",
     "metadata": {},
     "outputs": []
    }
   ],
   "metadata": {}
  }
 ]
}