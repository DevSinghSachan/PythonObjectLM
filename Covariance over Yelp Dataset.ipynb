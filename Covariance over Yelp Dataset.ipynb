{
 "metadata": {
  "name": "",
  "signature": "sha256:4e4b8427e1cdbc3a3cd27be4a39427d7a111b147e47e45123bac9905a1b6d39c"
 },
 "nbformat": 3,
 "nbformat_minor": 0,
 "worksheets": [
  {
   "cells": [
    {
     "cell_type": "code",
     "collapsed": false,
     "input": [
      "%load_ext cythonmagic\n",
      "%load_ext autoreload\n",
      "%matplotlib inline\n",
      "%autoreload 2\n",
      "import numpy as np, os, sys, gzip, pickle, re\n",
      "import matplotlib.pyplot as plt\n",
      "%config InlineBackend.figure_format = 'svg'\n",
      "from collections import OrderedDict\n",
      "from word2vec_extended import Word2VecExtended\n",
      "from IPython.display import clear_output\n",
      "from utils import present_restaurant, get_adjacency_matrix, get_degree_matrix, assign_parents\n",
      "from IPython.display import display, HTML\n",
      "from IPython.html.widgets import interact, fixed, IntSliderWidget\n",
      "from scipy.cluster.hierarchy import linkage, to_tree, dendrogram\n",
      "sys.path.append(\"/Users/jonathanraiman/Desktop/Coding/language_modeling/\")\n",
      "from objectlm import ObjectLM, CategoriesConverter, DatasetGenerator, HierarchicalObservation\n",
      "lmsenti = Word2VecExtended.load(\"/Users/jonathanraiman/Desktop/Coding/language_modeling/saves/kid_model_30_oov_senti\")"
     ],
     "language": "python",
     "metadata": {},
     "outputs": [],
     "prompt_number": 1
    },
    {
     "cell_type": "code",
     "collapsed": false,
     "input": [
      "file = gzip.open(\"saves/saved_texts.gz\", 'r')\n",
      "texts, texts_data = pickle.load(file)\n",
      "file.close()\n",
      "categories = set()\n",
      "for el in texts_data:\n",
      "    for c in el[\"categories\"]:\n",
      "        categories.add(c)\n",
      "catconvert = CategoriesConverter(categories)\n",
      "dataset_gen = DatasetGenerator(texts, texts_data, catconvert)\n",
      "\n",
      "# should modify this to do some auto-encoding / self regression.\n",
      "model = ObjectLM(\n",
      "    vocabulary = lmsenti,\n",
      "    object_vocabulary_size = len(texts),\n",
      "    window = 10,\n",
      "    bilinear_form = False,\n",
      "    size = 20,\n",
      "    object_size = 20,\n",
      "    output_sigmoid_classes = catconvert.num_categories,\n",
      "    output_sigmoid_labels = catconvert.index2category,\n",
      "    output_labels = [[\"\", \"$\", \"$$\", \"$$$\", \"$$$$\"], [\"1\", \"2\", \"3\", \"4\", \"5\"]],\n",
      "    output_classes=[5, 5] # \"\", \"$\", \"$$\",...,\"$$$$\", 5 price classes, and 5 rating classes\n",
      ")\n",
      "model.load_saved_weights(\"saves/objectlm_window_10_lm_20_objlm_20_4/\")\n",
      "model.create_normalized_matrices()\n",
      "\n",
      "\n",
      "if os.path.exists(\"saves/__linkage_average.npy\"):\n",
      "    Z = np.load(\"saves/__linkage_average.npy\")\n",
      "else:\n",
      "    y = model.object_matrix.get_value(borrow=True)\n",
      "    Z = linkage(y, method='average', metric='cosine')\n",
      "    np.save(\"saves/__linkage_average.npy\", Z)\n",
      "    \n",
      "    \n",
      "if os.path.exists(\"saves/__covariance__.npy\"):\n",
      "    Cov = np.load(\"saves/__covariance__.npy\")\n",
      "    observables = HierarchicalObservation(Cov)\n",
      "else:\n",
      "    root, nodes = to_tree(Z, rd=True)\n",
      "    assign_parents(root)\n",
      "    adj_mat = get_adjacency_matrix(nodes_small)\n",
      "    deg_mat = get_degree_matrix(nodes_small)\n",
      "    sigma = 5\n",
      "    laplacian = np.diag(deg_mat) - adj_mat + 1/(sigma**2) * np.eye(len(deg_mat))\n",
      "    Cov = np.linalg.inv(laplacian)\n",
      "    np.save(\"saves/__covariance__.npy\", Cov)\n",
      "    observables = HierarchicalObservation(Cov)\n",
      "    \n",
      "    \n",
      "from pyxdameraulevenshtein import damerau_levenshtein_distance as levenshtein_distance\n",
      "\n",
      "def search_for_object(self, object_index, topn = 10, metric = 'cosine'):\n",
      "    present_restaurant(texts_data[object_index], text = texts[object_index])\n",
      "    display(HTML(\"<small>%d</small>\" % object_index))\n",
      "    \n",
      "    print(object_index)\n",
      "    \n",
      "    results = self.most_similar_object(object_index, topn=topn, metric = metric)\n",
      "    if metric == 'euclidean':\n",
      "        max_distance = max(result[1] for result in results)\n",
      "    else:\n",
      "        max_distance = 1\n",
      "    \n",
      "    for result, distance in results:\n",
      "        present_restaurant(texts_data[result], text = texts[result])\n",
      "        display(HTML(\"<small>%d</small>\" % result))\n",
      "        display(HTML(\"\"\"\n",
      "            <div>\n",
      "                <div style='background: rgb(221,222,223);width:102px;padding:1px;border-radius:2px'>\n",
      "                    <div style='height:20px; width:%dpx;padding-left:3px;background-color:rgb(71, 189, 249);font-size:9px;color:white'>\n",
      "                        %.0f%%\n",
      "                    </div>\n",
      "                </div>\n",
      "            </div>\n",
      "            \"\"\" % (int(distance * 100 / max_distance), distance * 100 / max_distance)))\n",
      "        \n",
      "def nearest_name(text, levenshtein = True):\n",
      "    text = text.lower()\n",
      "    min_distance_index = -1\n",
      "    min_distance = float('inf')\n",
      "    min_distance_word = None\n",
      "    \n",
      "    for i, datum in enumerate(texts_data):\n",
      "        if levenshtein:\n",
      "            min_local_distance = float('inf')\n",
      "            if datum[\"_id\"].lower().find(text) != -1:\n",
      "                min_local_distance = 3\n",
      "                if min_local_distance < min_distance:\n",
      "                    min_distance_word = datum[\"_id\"]\n",
      "                    min_distance = min_local_distance\n",
      "                    min_distance_index = i\n",
      "            for scrap in re.split( \"[ -]\", datum[\"_id\"].lower()) + [datum[\"_id\"].lower()] + datum[\"categories\"]:\n",
      "                min_local_distance = min(min_local_distance, levenshtein_distance(text, scrap))\n",
      "                if min_local_distance < min_distance:\n",
      "                    min_distance_word = scrap\n",
      "                    min_distance = min_local_distance\n",
      "                    min_distance_index = i\n",
      "            if min_distance <= 1:\n",
      "                break\n",
      "        else:\n",
      "            if datum[\"_id\"].lower().find(text) != -1 or datum[\"id\"].lower().find(text) != -1:\n",
      "                min_distance = i\n",
      "                break\n",
      "            for cat in datum[\"categories\"]:\n",
      "                if cat.lower().find(text) != -1:\n",
      "                    min_distance = i\n",
      "                    break\n",
      "    \n",
      "    \n",
      "    if min_distance_index == -1 or min_distance == len(text) or min_distance == len(min_distance_word):\n",
      "        return (None, None, None)\n",
      "    else:\n",
      "        return (min_distance_word, min_distance_index, min_distance)\n",
      "\n",
      "def search_with_text(self, text, topn = 10, levenshtein = True, metric = 'cosine'):\n",
      "    min_distance_word, min_distance_index, min_distance = nearest_name(text, levenshtein=levenshtein)\n",
      "    \n",
      "    if min_distance_index == None:\n",
      "        print(\"Could not be found\")\n",
      "    else:\n",
      "        if min_distance > 0:\n",
      "            display(HTML(\"\"\"\n",
      "            <span style=\"color: #333\">Did you mean </span> <b>%s</b> <span style=\"color: #333\">(%d edit%s)</span> ?\n",
      "            \"\"\" % (min_distance_word, min_distance, \"s\" if min_distance != 1 else \"\")))\n",
      "        return search_for_object(self, min_distance_index, topn=topn, metric = metric)\n",
      "    \n",
      "INDEX_SET = set(range(0,model.object_vocabulary_size))\n",
      "\n",
      "def show_conditional_probs(query=\"thai\", topn=20, testn=2):\n",
      "    min_distance_word, min_distance_index, min_distance = nearest_name(query)\n",
      "    test_indices = [min_distance_index] + [i[0] for i in model.most_similar_object(min_distance_index)][:testn-1]\n",
      "    result_inds, result_probs = observables.conditional_probabilities(test_indices, remaining_indices = list(INDEX_SET - set(test_indices)))\n",
      "\n",
      "    top_results = np.argsort(result_probs[:,0])[::-1][:topn]\n",
      "\n",
      "    for i in range(topn):\n",
      "        present_restaurant(texts_data[result_inds[top_results[i]]], text=texts[result_inds[top_results[i]]])\n",
      "        print(result_probs[top_results[i],0])"
     ],
     "language": "python",
     "metadata": {},
     "outputs": [],
     "prompt_number": 2
    },
    {
     "cell_type": "code",
     "collapsed": false,
     "input": [
      "model.most_similar_word(\"spicy\", topn = 10, metric='euclidean')"
     ],
     "language": "python",
     "metadata": {},
     "outputs": [
      {
       "metadata": {},
       "output_type": "pyout",
       "prompt_number": 53,
       "text": [
        "[('rolls', 0.22634069621562958, 39543),\n",
        " ('curry', 0.2601078450679779, 4149),\n",
        " ('sweet', 0.28541192412376404, 23074),\n",
        " ('taste', 0.3037929832935333, 10084),\n",
        " ('lunch', 0.30719003081321716, 39933),\n",
        " ('else', 0.31810954213142395, 22305),\n",
        " ('soup', 0.3437389135360718, 3839),\n",
        " ('dishes', 0.34431201219558716, 23783),\n",
        " ('found', 0.3495505154132843, 26261),\n",
        " ('dish', 0.3529817759990692, 18811)]"
       ]
      }
     ],
     "prompt_number": 53
    },
    {
     "cell_type": "code",
     "collapsed": false,
     "input": [
      "model.most_similar_word(\"bland\", topn = 10, metric='euclidean')"
     ],
     "language": "python",
     "metadata": {},
     "outputs": [
      {
       "metadata": {},
       "output_type": "pyout",
       "prompt_number": 54,
       "text": [
        "[('plain', 0.17321105301380157, 7394),\n",
        " ('became', 0.17639024555683136, 12233),\n",
        " ('setting', 0.2001669853925705, 11405),\n",
        " ('prime', 0.20130905508995056, 11328),\n",
        " ('bun', 0.20869243144989014, 30449),\n",
        " ('money', 0.20930257439613342, 35677),\n",
        " ('toasted', 0.21201221644878387, 18297),\n",
        " ('tv', 0.22010065615177155, 44339),\n",
        " ('thanks', 0.22213168442249298, 8716),\n",
        " ('seasoned', 0.2229466289281845, 30527)]"
       ]
      }
     ],
     "prompt_number": 54
    },
    {
     "cell_type": "code",
     "collapsed": false,
     "input": [
      "model.most_similar_word(\"cancer\", topn = 10, metric='euclidean')"
     ],
     "language": "python",
     "metadata": {},
     "outputs": [
      {
       "metadata": {},
       "output_type": "pyout",
       "prompt_number": 55,
       "text": [
        "[('wicked', 0.1603238880634308, 7098),\n",
        " ('forgetting', 0.16060882806777954, 17087),\n",
        " ('insane', 0.16438277065753937, 37478),\n",
        " ('tiger', 0.16671735048294067, 28578),\n",
        " ('cases', 0.16948099434375763, 21099),\n",
        " ('powdered', 0.16957665979862213, 23867),\n",
        " ('storage', 0.17332720756530762, 35628),\n",
        " ('counters', 0.175497904419899, 39190),\n",
        " ('patron', 0.17726223170757294, 24460),\n",
        " ('radio', 0.17757530510425568, 23615)]"
       ]
      }
     ],
     "prompt_number": 55
    },
    {
     "cell_type": "code",
     "collapsed": false,
     "input": [
      "model.most_similar_word(\"sandwich\", topn = 10, metric='euclidean')"
     ],
     "language": "python",
     "metadata": {},
     "outputs": [
      {
       "metadata": {},
       "output_type": "pyout",
       "prompt_number": 36,
       "text": [
        "[('bread', 0.4151478409767151, 23558),\n",
        " ('right', 0.4159706234931946, 38326),\n",
        " ('burger', 0.4447084367275238, 10504),\n",
        " ('sure', 0.45078912377357483, 33424),\n",
        " ('sandwiches', 0.4596808850765228, 39690),\n",
        " ('fast', 0.46083134412765503, 31767),\n",
        " ('better', 0.4627241790294647, 8050),\n",
        " ('sauce', 0.48590564727783203, 39287),\n",
        " ('coming', 0.48857972025871277, 18235),\n",
        " ('make', 0.4887189269065857, 12353)]"
       ]
      }
     ],
     "prompt_number": 36
    },
    {
     "cell_type": "code",
     "collapsed": false,
     "input": [
      "model.most_similar_word(\"sandwich\", topn = 10, metric='cosine')"
     ],
     "language": "python",
     "metadata": {},
     "outputs": [
      {
       "metadata": {},
       "output_type": "pyout",
       "prompt_number": 76,
       "text": [
        "[('bread', 0.9562628269195557, 23558),\n",
        " ('right', 0.9553717374801636, 38326),\n",
        " ('idea', 0.9483616352081299, 31262),\n",
        " ('ago', 0.9467175006866455, 14050),\n",
        " ('make', 0.9464825987815857, 12353),\n",
        " ('while', 0.9453556537628174, 20071),\n",
        " ('burger', 0.9448192119598389, 10504),\n",
        " ('many', 0.943671464920044, 29489),\n",
        " ('sure', 0.9435602426528931, 33424),\n",
        " ('someone', 0.943207859992981, 10163)]"
       ]
      }
     ],
     "prompt_number": 76
    },
    {
     "cell_type": "code",
     "collapsed": false,
     "input": [
      "interact(search_with_text, self=fixed(model), levenshtein_distance=fixed(True), text=\"Tangerine Thai\", metric=('cosine', 'euclidean'))"
     ],
     "language": "python",
     "metadata": {},
     "outputs": [
      {
       "html": [
        "\n",
        "            <span style=\"color: #333\">Did you mean </span> <b>tangerine thai</b> <span style=\"color: #333\">(3 edits)</span> ?\n",
        "            "
       ],
       "metadata": {},
       "output_type": "display_data",
       "text": [
        "<IPython.core.display.HTML at 0x12305f048>"
       ]
      },
      {
       "html": [
        "\n",
        "    <div>\n",
        "        <h2>Tangerine Thai</h2>\n",
        "        <span style='color: #ca0814;'><span>$</span><span>$</span></span><span style='color: #e4e4e4;'><span>$</span><span>$</span></span><br /> \n",
        "        <span style='color: #feea60;'>\u2605\u2605\u2605</span><span style='color: #e4e4e4;'>\u2605\u2605</span>\n",
        "        <span style='color:#333;font-size:9px'>6673 words</span>\n",
        "        <br/>\n",
        "        <span style='color:#777:font-size:9px'>Categories: </span><span style='color:#333;font-size:13px'>thai</span>\n",
        "        <p style='width:450px'>review ... ? seattle , wa this is a cute little spot on phinney , with a great wall that completely opens up on nice days . the food is</p>\n",
        "    </div>"
       ],
       "metadata": {},
       "output_type": "display_data",
       "text": [
        "<IPython.core.display.HTML at 0x12305f048>"
       ]
      },
      {
       "html": [
        "<small>1796</small>"
       ],
       "metadata": {},
       "output_type": "display_data",
       "text": [
        "<IPython.core.display.HTML at 0x12305f048>"
       ]
      },
      {
       "output_type": "stream",
       "stream": "stdout",
       "text": [
        "1796\n"
       ]
      },
      {
       "html": [
        "\n",
        "    <div>\n",
        "        <h2>Mae Ploy Thai Cuisine</h2>\n",
        "        <span style='color: #ca0814;'><span>$</span><span>$</span></span><span style='color: #e4e4e4;'><span>$</span><span>$</span></span><br /> \n",
        "        <span style='color: #feea60;'>\u2605\u2605\u2605</span><span style='color: #e4e4e4;'>\u2605\u2605</span>\n",
        "        <span style='color:#333;font-size:9px'>5157 words</span>\n",
        "        <br/>\n",
        "        <span style='color:#777:font-size:9px'>Categories: </span><span style='color:#333;font-size:13px'>thai</span>\n",
        "        <p style='width:450px'>the fried tofu was perfect as well . '' '' the curry was spicy and full of vegetables . '' '' the staff is always very nice and recognize me</p>\n",
        "    </div>"
       ],
       "metadata": {},
       "output_type": "display_data",
       "text": [
        "<IPython.core.display.HTML at 0x12305fba8>"
       ]
      },
      {
       "html": [
        "<small>1911</small>"
       ],
       "metadata": {},
       "output_type": "display_data",
       "text": [
        "<IPython.core.display.HTML at 0x12305fba8>"
       ]
      },
      {
       "html": [
        "\n",
        "            <div>\n",
        "                <div style='background: rgb(221,222,223);width:102px;padding:1px;border-radius:2px'>\n",
        "                    <div style='height:20px; width:98px;padding-left:3px;background-color:rgb(71, 189, 249);font-size:9px;color:white'>\n",
        "                        99%\n",
        "                    </div>\n",
        "                </div>\n",
        "            </div>\n",
        "            "
       ],
       "metadata": {},
       "output_type": "display_data",
       "text": [
        "<IPython.core.display.HTML at 0x12305fba8>"
       ]
      },
      {
       "html": [
        "\n",
        "    <div>\n",
        "        <h2>Pailin Thai Cuisine</h2>\n",
        "        <span style='color: #ca0814;'><span>$</span><span>$</span></span><span style='color: #e4e4e4;'><span>$</span><span>$</span></span><br /> \n",
        "        <span style='color: #feea60;'>\u2605\u2605\u2605</span><span style='color: #e4e4e4;'>\u2605\u2605</span>\n",
        "        <span style='color:#333;font-size:9px'>5445 words</span>\n",
        "        <br/>\n",
        "        <span style='color:#777:font-size:9px'>Categories: </span><span style='color:#333;font-size:13px'>thai</span>\n",
        "        <p style='width:450px'>k . '' love the fish tank , really cool to look at . '' '' i 'm kind of in a rut , since i usually get the phad</p>\n",
        "    </div>"
       ],
       "metadata": {},
       "output_type": "display_data",
       "text": [
        "<IPython.core.display.HTML at 0x12305fba8>"
       ]
      },
      {
       "html": [
        "<small>2055</small>"
       ],
       "metadata": {},
       "output_type": "display_data",
       "text": [
        "<IPython.core.display.HTML at 0x12305fba8>"
       ]
      },
      {
       "html": [
        "\n",
        "            <div>\n",
        "                <div style='background: rgb(221,222,223);width:102px;padding:1px;border-radius:2px'>\n",
        "                    <div style='height:20px; width:98px;padding-left:3px;background-color:rgb(71, 189, 249);font-size:9px;color:white'>\n",
        "                        98%\n",
        "                    </div>\n",
        "                </div>\n",
        "            </div>\n",
        "            "
       ],
       "metadata": {},
       "output_type": "display_data",
       "text": [
        "<IPython.core.display.HTML at 0x12305fba8>"
       ]
      },
      {
       "html": [
        "\n",
        "    <div>\n",
        "        <h2>Thailanding On Alki</h2>\n",
        "        <span style='color: #ca0814;'><span>$</span><span>$</span></span><span style='color: #e4e4e4;'><span>$</span><span>$</span></span><br /> \n",
        "        <span style='color: #feea60;'>\u2605\u2605\u2605</span><span style='color: #e4e4e4;'>\u2605\u2605</span>\n",
        "        <span style='color:#333;font-size:9px'>7453 words</span>\n",
        "        <br/>\n",
        "        <span style='color:#777:font-size:9px'>Categories: </span><span style='color:#333;font-size:13px'>thai</span>\n",
        "        <p style='width:450px'>of all the service was amazing ! ! ! they genuinely cared if we liked the food or not . second , the food was great . i had the</p>\n",
        "    </div>"
       ],
       "metadata": {},
       "output_type": "display_data",
       "text": [
        "<IPython.core.display.HTML at 0x12305fba8>"
       ]
      },
      {
       "html": [
        "<small>2030</small>"
       ],
       "metadata": {},
       "output_type": "display_data",
       "text": [
        "<IPython.core.display.HTML at 0x12305fba8>"
       ]
      },
      {
       "html": [
        "\n",
        "            <div>\n",
        "                <div style='background: rgb(221,222,223);width:102px;padding:1px;border-radius:2px'>\n",
        "                    <div style='height:20px; width:98px;padding-left:3px;background-color:rgb(71, 189, 249);font-size:9px;color:white'>\n",
        "                        98%\n",
        "                    </div>\n",
        "                </div>\n",
        "            </div>\n",
        "            "
       ],
       "metadata": {},
       "output_type": "display_data",
       "text": [
        "<IPython.core.display.HTML at 0x12305fba8>"
       ]
      },
      {
       "html": [
        "\n",
        "    <div>\n",
        "        <h2>Ying Thai Kitchen</h2>\n",
        "        <span style='color: #ca0814;'><span>$</span><span>$</span></span><span style='color: #e4e4e4;'><span>$</span><span>$</span></span><br /> \n",
        "        <span style='color: #feea60;'>\u2605\u2605\u2605</span><span style='color: #e4e4e4;'>\u2605\u2605</span>\n",
        "        <span style='color:#333;font-size:9px'>7349 words</span>\n",
        "        <br/>\n",
        "        <span style='color:#777:font-size:9px'>Categories: </span><span style='color:#333;font-size:13px'>thai</span>\n",
        "        <p style='width:450px'>. they are very happy about this place 's food which means good sign ! was this review ... ? seattle , wa i had not had thai food in</p>\n",
        "    </div>"
       ],
       "metadata": {},
       "output_type": "display_data",
       "text": [
        "<IPython.core.display.HTML at 0x12305fba8>"
       ]
      },
      {
       "html": [
        "<small>1928</small>"
       ],
       "metadata": {},
       "output_type": "display_data",
       "text": [
        "<IPython.core.display.HTML at 0x12305fba8>"
       ]
      },
      {
       "html": [
        "\n",
        "            <div>\n",
        "                <div style='background: rgb(221,222,223);width:102px;padding:1px;border-radius:2px'>\n",
        "                    <div style='height:20px; width:97px;padding-left:3px;background-color:rgb(71, 189, 249);font-size:9px;color:white'>\n",
        "                        98%\n",
        "                    </div>\n",
        "                </div>\n",
        "            </div>\n",
        "            "
       ],
       "metadata": {},
       "output_type": "display_data",
       "text": [
        "<IPython.core.display.HTML at 0x12305fba8>"
       ]
      },
      {
       "html": [
        "\n",
        "    <div>\n",
        "        <h2>Royal Palm Thai Restaurant</h2>\n",
        "        <span style='color: #ca0814;'><span>$</span><span>$</span></span><span style='color: #e4e4e4;'><span>$</span><span>$</span></span><br /> \n",
        "        <span style='color: #feea60;'>\u2605\u2605\u2605</span><span style='color: #e4e4e4;'>\u2605\u2605</span>\n",
        "        <span style='color:#333;font-size:9px'>5487 words</span>\n",
        "        <br/>\n",
        "        <span style='color:#777:font-size:9px'>Categories: </span><span style='color:#333;font-size:13px'>thai</span>\n",
        "        <p style='width:450px'>driving as i wanted to try a different place . i ordered the 4 star out of 5 , gluten-free , gang ped ( red curry , duck , pineapple</p>\n",
        "    </div>"
       ],
       "metadata": {},
       "output_type": "display_data",
       "text": [
        "<IPython.core.display.HTML at 0x12305fba8>"
       ]
      },
      {
       "html": [
        "<small>1949</small>"
       ],
       "metadata": {},
       "output_type": "display_data",
       "text": [
        "<IPython.core.display.HTML at 0x12305fba8>"
       ]
      },
      {
       "html": [
        "\n",
        "            <div>\n",
        "                <div style='background: rgb(221,222,223);width:102px;padding:1px;border-radius:2px'>\n",
        "                    <div style='height:20px; width:97px;padding-left:3px;background-color:rgb(71, 189, 249);font-size:9px;color:white'>\n",
        "                        98%\n",
        "                    </div>\n",
        "                </div>\n",
        "            </div>\n",
        "            "
       ],
       "metadata": {},
       "output_type": "display_data",
       "text": [
        "<IPython.core.display.HTML at 0x12305fba8>"
       ]
      },
      {
       "html": [
        "\n",
        "    <div>\n",
        "        <h2>Tawon Thai Restaurant</h2>\n",
        "        <span style='color: #ca0814;'><span>$</span><span>$</span></span><span style='color: #e4e4e4;'><span>$</span><span>$</span></span><br /> \n",
        "        <span style='color: #feea60;'>\u2605\u2605\u2605</span><span style='color: #e4e4e4;'>\u2605\u2605</span>\n",
        "        <span style='color:#333;font-size:9px'>8577 words</span>\n",
        "        <br/>\n",
        "        <span style='color:#777:font-size:9px'>Categories: </span><span style='color:#333;font-size:13px'>thai</span>\n",
        "        <p style='width:450px'>i always order the same thing at thai restaurants- curry , noodles , eggplant . the kee mao is good but the spiciness levels vary wildly . the curry also</p>\n",
        "    </div>"
       ],
       "metadata": {},
       "output_type": "display_data",
       "text": [
        "<IPython.core.display.HTML at 0x12305fba8>"
       ]
      },
      {
       "html": [
        "<small>1830</small>"
       ],
       "metadata": {},
       "output_type": "display_data",
       "text": [
        "<IPython.core.display.HTML at 0x12305fba8>"
       ]
      },
      {
       "html": [
        "\n",
        "            <div>\n",
        "                <div style='background: rgb(221,222,223);width:102px;padding:1px;border-radius:2px'>\n",
        "                    <div style='height:20px; width:97px;padding-left:3px;background-color:rgb(71, 189, 249);font-size:9px;color:white'>\n",
        "                        97%\n",
        "                    </div>\n",
        "                </div>\n",
        "            </div>\n",
        "            "
       ],
       "metadata": {},
       "output_type": "display_data",
       "text": [
        "<IPython.core.display.HTML at 0x12305fba8>"
       ]
      },
      {
       "html": [
        "\n",
        "    <div>\n",
        "        <h2>rice-n-spice-thai-cuisine-seattle</h2>\n",
        "        <span style='color: #ca0814;'><span>$</span><span>$</span></span><span style='color: #e4e4e4;'><span>$</span><span>$</span></span><br /> \n",
        "        <span style='color: #feea60;'>\u2605\u2605\u2605</span><span style='color: #e4e4e4;'>\u2605\u2605</span>\n",
        "        <span style='color:#333;font-size:9px'>7102 words</span>\n",
        "        <br/>\n",
        "        <span style='color:#777:font-size:9px'>Categories: </span><span style='color:#333;font-size:13px'>thai</span>\n",
        "        <p style='width:450px'>, seattle , wa by ron m . rice ` n spice thai cuisine , seattle , wa by george v . '' for my entree , i tried their</p>\n",
        "    </div>"
       ],
       "metadata": {},
       "output_type": "display_data",
       "text": [
        "<IPython.core.display.HTML at 0x12305fba8>"
       ]
      },
      {
       "html": [
        "<small>3429</small>"
       ],
       "metadata": {},
       "output_type": "display_data",
       "text": [
        "<IPython.core.display.HTML at 0x12305fba8>"
       ]
      },
      {
       "html": [
        "\n",
        "            <div>\n",
        "                <div style='background: rgb(221,222,223);width:102px;padding:1px;border-radius:2px'>\n",
        "                    <div style='height:20px; width:97px;padding-left:3px;background-color:rgb(71, 189, 249);font-size:9px;color:white'>\n",
        "                        97%\n",
        "                    </div>\n",
        "                </div>\n",
        "            </div>\n",
        "            "
       ],
       "metadata": {},
       "output_type": "display_data",
       "text": [
        "<IPython.core.display.HTML at 0x12305fba8>"
       ]
      },
      {
       "html": [
        "\n",
        "    <div>\n",
        "        <h2>Vatsana Thai Restaurant</h2>\n",
        "        <span style='color: #ca0814;'><span>$</span><span>$</span></span><span style='color: #e4e4e4;'><span>$</span><span>$</span></span><br /> \n",
        "        <span style='color: #feea60;'>\u2605\u2605\u2605</span><span style='color: #e4e4e4;'>\u2605\u2605</span>\n",
        "        <span style='color:#333;font-size:9px'>6024 words</span>\n",
        "        <br/>\n",
        "        <span style='color:#777:font-size:9px'>Categories: </span><span style='color:#333;font-size:13px'>thai</span>\n",
        "        <p style='width:450px'>kah . the service is friendly , fast and takeout is just as good as eat in . a bit overpriced for a place that is n't a sit-down type</p>\n",
        "    </div>"
       ],
       "metadata": {},
       "output_type": "display_data",
       "text": [
        "<IPython.core.display.HTML at 0x12305fba8>"
       ]
      },
      {
       "html": [
        "<small>2053</small>"
       ],
       "metadata": {},
       "output_type": "display_data",
       "text": [
        "<IPython.core.display.HTML at 0x12305fba8>"
       ]
      },
      {
       "html": [
        "\n",
        "            <div>\n",
        "                <div style='background: rgb(221,222,223);width:102px;padding:1px;border-radius:2px'>\n",
        "                    <div style='height:20px; width:96px;padding-left:3px;background-color:rgb(71, 189, 249);font-size:9px;color:white'>\n",
        "                        97%\n",
        "                    </div>\n",
        "                </div>\n",
        "            </div>\n",
        "            "
       ],
       "metadata": {},
       "output_type": "display_data",
       "text": [
        "<IPython.core.display.HTML at 0x12305fba8>"
       ]
      },
      {
       "html": [
        "\n",
        "    <div>\n",
        "        <h2>racha-noodles-and-thai-cuisine-seattle</h2>\n",
        "        <span style='color: #ca0814;'><span>$</span><span>$</span></span><span style='color: #e4e4e4;'><span>$</span><span>$</span></span><br /> \n",
        "        <span style='color: #feea60;'>\u2605\u2605\u2605</span><span style='color: #e4e4e4;'>\u2605\u2605</span>\n",
        "        <span style='color:#333;font-size:9px'>5586 words</span>\n",
        "        <br/>\n",
        "        <span style='color:#777:font-size:9px'>Categories: </span><span style='color:#333;font-size:13px'>thai</span>\n",
        "        <p style='width:450px'>, local thai place and i can totally see why ! we dined for lunch and since it was an off ... '' read more '' redmond , wa best</p>\n",
        "    </div>"
       ],
       "metadata": {},
       "output_type": "display_data",
       "text": [
        "<IPython.core.display.HTML at 0x12305fba8>"
       ]
      },
      {
       "html": [
        "<small>3365</small>"
       ],
       "metadata": {},
       "output_type": "display_data",
       "text": [
        "<IPython.core.display.HTML at 0x12305fba8>"
       ]
      },
      {
       "html": [
        "\n",
        "            <div>\n",
        "                <div style='background: rgb(221,222,223);width:102px;padding:1px;border-radius:2px'>\n",
        "                    <div style='height:20px; width:96px;padding-left:3px;background-color:rgb(71, 189, 249);font-size:9px;color:white'>\n",
        "                        97%\n",
        "                    </div>\n",
        "                </div>\n",
        "            </div>\n",
        "            "
       ],
       "metadata": {},
       "output_type": "display_data",
       "text": [
        "<IPython.core.display.HTML at 0x12305fba8>"
       ]
      },
      {
       "html": [
        "\n",
        "    <div>\n",
        "        <h2>Chillie's Paste Thai Cuisine</h2>\n",
        "        <span style='color: #ca0814;'><span>$</span><span>$</span></span><span style='color: #e4e4e4;'><span>$</span><span>$</span></span><br /> \n",
        "        <span style='color: #feea60;'>\u2605\u2605\u2605</span><span style='color: #e4e4e4;'>\u2605\u2605</span>\n",
        "        <span style='color:#333;font-size:9px'>6794 words</span>\n",
        "        <br/>\n",
        "        <span style='color:#777:font-size:9px'>Categories: </span><span style='color:#333;font-size:13px'>thai</span>\n",
        "        <p style='width:450px'>delivery guys are really nice , and the food is great . was this review ... ? seattle , wa my husband and i have been ordering take out from</p>\n",
        "    </div>"
       ],
       "metadata": {},
       "output_type": "display_data",
       "text": [
        "<IPython.core.display.HTML at 0x12305fba8>"
       ]
      },
      {
       "html": [
        "<small>1721</small>"
       ],
       "metadata": {},
       "output_type": "display_data",
       "text": [
        "<IPython.core.display.HTML at 0x12305fba8>"
       ]
      },
      {
       "html": [
        "\n",
        "            <div>\n",
        "                <div style='background: rgb(221,222,223);width:102px;padding:1px;border-radius:2px'>\n",
        "                    <div style='height:20px; width:96px;padding-left:3px;background-color:rgb(71, 189, 249);font-size:9px;color:white'>\n",
        "                        97%\n",
        "                    </div>\n",
        "                </div>\n",
        "            </div>\n",
        "            "
       ],
       "metadata": {},
       "output_type": "display_data",
       "text": [
        "<IPython.core.display.HTML at 0x12305fba8>"
       ]
      }
     ],
     "prompt_number": 335
    },
    {
     "cell_type": "code",
     "collapsed": false,
     "input": [
      "interact(show_conditional_probs,\n",
      "         topn=IntSliderWidget(min=1, max=100, value = 20),\n",
      "         testn=IntSliderWidget(min=1, max=100, value=3))"
     ],
     "language": "python",
     "metadata": {},
     "outputs": [
      {
       "html": [
        "\n",
        "    <div>\n",
        "        <h2>Lotus Asian Kitchen & Lounge</h2>\n",
        "        <span style='color: #ca0814;'><span>$</span><span>$</span></span><span style='color: #e4e4e4;'><span>$</span><span>$</span></span><br /> \n",
        "        <span style='color: #feea60;'>\u2605\u2605\u2605</span><span style='color: #e4e4e4;'>\u2605\u2605</span>\n",
        "        <span style='color:#333;font-size:9px'>3967 words</span>\n",
        "        <br/>\n",
        "        <span style='color:#777:font-size:9px'>Categories: </span><span style='color:#333;font-size:13px'>vietnamese, chinese, lounges</span>\n",
        "        <p style='width:450px'>placing a fried rolled up shell inside the spring roll . the mongolian beef had to of been the most tenderized beef i 've had at an asian restaurant .</p>\n",
        "    </div>"
       ],
       "metadata": {},
       "output_type": "display_data",
       "text": [
        "<IPython.core.display.HTML at 0x10bbeb6a0>"
       ]
      },
      {
       "output_type": "stream",
       "stream": "stdout",
       "text": [
        "0.51403824128\n"
       ]
      },
      {
       "html": [
        "\n",
        "    <div>\n",
        "        <h2>lotus-asian-kitchen-and-lounge-seattle</h2>\n",
        "        <span style='color: #ca0814;'><span>$</span><span>$</span></span><span style='color: #e4e4e4;'><span>$</span><span>$</span></span><br /> \n",
        "        <span style='color: #feea60;'>\u2605\u2605\u2605</span><span style='color: #e4e4e4;'>\u2605\u2605</span>\n",
        "        <span style='color:#333;font-size:9px'>4027 words</span>\n",
        "        <br/>\n",
        "        <span style='color:#777:font-size:9px'>Categories: </span><span style='color:#333;font-size:13px'>vietnamese, chinese, lounges</span>\n",
        "        <p style='width:450px'>, if you reserve a table ahead of time , they usually get you seated right away . the parking lot is tiny , so consider parking on the street</p>\n",
        "    </div>"
       ],
       "metadata": {},
       "output_type": "display_data",
       "text": [
        "<IPython.core.display.HTML at 0x10bbeb6a0>"
       ]
      },
      {
       "output_type": "stream",
       "stream": "stdout",
       "text": [
        "0.51403824128\n"
       ]
      },
      {
       "html": [
        "\n",
        "    <div>\n",
        "        <h2>jelly-bar-seattle-2</h2>\n",
        "        <span style='color: #ca0814;'><span>$</span><span>$</span></span><span style='color: #e4e4e4;'><span>$</span><span>$</span></span><br /> \n",
        "        <span style='color: #feea60;'>\u2605\u2605\u2605\u2605</span><span style='color: #e4e4e4;'>\u2605</span>\n",
        "        <span style='color:#333;font-size:9px'>2484 words</span>\n",
        "        <br/>\n",
        "        <span style='color:#777:font-size:9px'>Categories: </span><span style='color:#333;font-size:13px'>vietnamese, lounges</span>\n",
        "        <p style='width:450px'>really just the bar of long provincial , i like this place better . i think it 's because my expectations were lower , i come during happy hour so</p>\n",
        "    </div>"
       ],
       "metadata": {},
       "output_type": "display_data",
       "text": [
        "<IPython.core.display.HTML at 0x10bbeb6a0>"
       ]
      },
      {
       "output_type": "stream",
       "stream": "stdout",
       "text": [
        "0.513850406511\n"
       ]
      },
      {
       "html": [
        "\n",
        "    <div>\n",
        "        <h2>Jelly Bar</h2>\n",
        "        <span style='color: #ca0814;'><span>$</span><span>$</span></span><span style='color: #e4e4e4;'><span>$</span><span>$</span></span><br /> \n",
        "        <span style='color: #feea60;'>\u2605\u2605\u2605\u2605</span><span style='color: #e4e4e4;'>\u2605</span>\n",
        "        <span style='color:#333;font-size:9px'>2441 words</span>\n",
        "        <br/>\n",
        "        <span style='color:#777:font-size:9px'>Categories: </span><span style='color:#333;font-size:13px'>vietnamese, lounges</span>\n",
        "        <p style='width:450px'>jellyfish tank by ave a . '' excellent late night happy hour starting at 10pm . '' '' ... dark but nice , especially to catch full view of the</p>\n",
        "    </div>"
       ],
       "metadata": {},
       "output_type": "display_data",
       "text": [
        "<IPython.core.display.HTML at 0x10bbeb6a0>"
       ]
      },
      {
       "output_type": "stream",
       "stream": "stdout",
       "text": [
        "0.513850406511\n"
       ]
      },
      {
       "html": [
        "\n",
        "    <div>\n",
        "        <h2>pho-mau-kent</h2>\n",
        "        <span style='color: #ca0814;'><span>$</span></span><span style='color: #e4e4e4;'><span>$</span><span>$</span><span>$</span></span><br /> \n",
        "        <span style='color: #feea60;'>\u2605\u2605\u2605\u2605</span><span style='color: #e4e4e4;'>\u2605</span>\n",
        "        <span style='color:#333;font-size:9px'>647 words</span>\n",
        "        <br/>\n",
        "        <span style='color:#777:font-size:9px'>Categories: </span><span style='color:#333;font-size:13px'>vietnamese, bubbletea</span>\n",
        "        <p style='width:450px'>liked your meal ? that place exists nowhere that i know of in modern life except in this little pho shop in kent . the food is 3-4 stars ,</p>\n",
        "    </div>"
       ],
       "metadata": {},
       "output_type": "display_data",
       "text": [
        "<IPython.core.display.HTML at 0x10bbeb6a0>"
       ]
      },
      {
       "output_type": "stream",
       "stream": "stdout",
       "text": [
        "0.50342926028\n"
       ]
      },
      {
       "html": [
        "\n",
        "    <div>\n",
        "        <h2>Pho Mau</h2>\n",
        "        <span style='color: #ca0814;'><span>$</span></span><span style='color: #e4e4e4;'><span>$</span><span>$</span><span>$</span></span><br /> \n",
        "        <span style='color: #feea60;'>\u2605\u2605\u2605\u2605</span><span style='color: #e4e4e4;'>\u2605</span>\n",
        "        <span style='color:#333;font-size:9px'>692 words</span>\n",
        "        <br/>\n",
        "        <span style='color:#777:font-size:9px'>Categories: </span><span style='color:#333;font-size:13px'>vietnamese, bubbletea</span>\n",
        "        <p style='width:450px'>and cakes . i and my husband love to have some hot fresh baked croissant and coffee for breakfast ; so we read more '' wa , wa remember when</p>\n",
        "    </div>"
       ],
       "metadata": {},
       "output_type": "display_data",
       "text": [
        "<IPython.core.display.HTML at 0x10bbeb6a0>"
       ]
      },
      {
       "output_type": "stream",
       "stream": "stdout",
       "text": [
        "0.50342926028\n"
       ]
      },
      {
       "html": [
        "\n",
        "    <div>\n",
        "        <h2>108-restaurant-kent</h2>\n",
        "        <span style='color: #ca0814;'><span>$</span></span><span style='color: #e4e4e4;'><span>$</span><span>$</span><span>$</span></span><br /> \n",
        "        <span style='color: #feea60;'>\u2605\u2605\u2605\u2605</span><span style='color: #e4e4e4;'>\u2605</span>\n",
        "        <span style='color:#333;font-size:9px'>6199 words</span>\n",
        "        <br/>\n",
        "        <span style='color:#777:font-size:9px'>Categories: </span><span style='color:#333;font-size:13px'>vietnamese, tradamerican</span>\n",
        "        <p style='width:450px'>! ! the pho is very comforting and tasty . i would recommend this place to any of my friends . the menu is huge and there is something for</p>\n",
        "    </div>"
       ],
       "metadata": {},
       "output_type": "display_data",
       "text": [
        "<IPython.core.display.HTML at 0x10bbeb6a0>"
       ]
      },
      {
       "output_type": "stream",
       "stream": "stdout",
       "text": [
        "0.503417870998\n"
       ]
      },
      {
       "html": [
        "\n",
        "    <div>\n",
        "        <h2>108 Restaurant</h2>\n",
        "        <span style='color: #ca0814;'><span>$</span></span><span style='color: #e4e4e4;'><span>$</span><span>$</span><span>$</span></span><br /> \n",
        "        <span style='color: #feea60;'>\u2605\u2605\u2605\u2605</span><span style='color: #e4e4e4;'>\u2605</span>\n",
        "        <span style='color:#333;font-size:9px'>6199 words</span>\n",
        "        <br/>\n",
        "        <span style='color:#777:font-size:9px'>Categories: </span><span style='color:#333;font-size:13px'>vietnamese, tradamerican</span>\n",
        "        <p style='width:450px'>! ! the pho is very comforting and tasty . i would recommend this place to any of my friends . the menu is huge and there is something for</p>\n",
        "    </div>"
       ],
       "metadata": {},
       "output_type": "display_data",
       "text": [
        "<IPython.core.display.HTML at 0x10bbeb6a0>"
       ]
      },
      {
       "output_type": "stream",
       "stream": "stdout",
       "text": [
        "0.503417870998\n"
       ]
      },
      {
       "html": [
        "\n",
        "    <div>\n",
        "        <h2>Old Country Buffet</h2>\n",
        "        <span style='color: #ca0814;'><span>$</span></span><span style='color: #e4e4e4;'><span>$</span><span>$</span><span>$</span></span><br /> \n",
        "        <span style='color: #feea60;'>\u2605\u2605</span><span style='color: #e4e4e4;'>\u2605\u2605\u2605</span>\n",
        "        <span style='color:#333;font-size:9px'>7845 words</span>\n",
        "        <br/>\n",
        "        <span style='color:#777:font-size:9px'>Categories: </span><span style='color:#333;font-size:13px'>newamerican, buffets, breakfast_brunch</span>\n",
        "        <p style='width:450px'>about 9 or 10 years old , back when the price was about $ 9 for a meal with drinks included - this had to be at least late 7777s</p>\n",
        "    </div>"
       ],
       "metadata": {},
       "output_type": "display_data",
       "text": [
        "<IPython.core.display.HTML at 0x10bbeb6a0>"
       ]
      },
      {
       "output_type": "stream",
       "stream": "stdout",
       "text": [
        "0.503348241879\n"
       ]
      },
      {
       "html": [
        "\n",
        "    <div>\n",
        "        <h2>Pho Thuy Hong</h2>\n",
        "        <span style='color: #ca0814;'><span></span></span><span style='color: #e4e4e4;'><span>$</span><span>$</span><span>$</span><span>$</span></span><br /> \n",
        "        <span style='color: #feea60;'>\u2605</span><span style='color: #e4e4e4;'>\u2605\u2605\u2605\u2605</span>\n",
        "        <span style='color:#333;font-size:9px'>311 words</span>\n",
        "        <br/>\n",
        "        <span style='color:#777:font-size:9px'>Categories: </span><span style='color:#333;font-size:13px'>vietnamese</span>\n",
        "        <p style='width:450px'>if i could recommend ... just do not go here . the soup ... just ok . it had the taste of pho but i would n't be surprised if</p>\n",
        "    </div>"
       ],
       "metadata": {},
       "output_type": "display_data",
       "text": [
        "<IPython.core.display.HTML at 0x10bbeb6a0>"
       ]
      },
      {
       "output_type": "stream",
       "stream": "stdout",
       "text": [
        "0.503049133025\n"
       ]
      },
      {
       "html": [
        "\n",
        "    <div>\n",
        "        <h2>pho-thuy-hong-seattle</h2>\n",
        "        <span style='color: #ca0814;'><span></span></span><span style='color: #e4e4e4;'><span>$</span><span>$</span><span>$</span><span>$</span></span><br /> \n",
        "        <span style='color: #feea60;'>\u2605</span><span style='color: #e4e4e4;'>\u2605\u2605\u2605\u2605</span>\n",
        "        <span style='color:#333;font-size:9px'>341 words</span>\n",
        "        <br/>\n",
        "        <span style='color:#777:font-size:9px'>Categories: </span><span style='color:#333;font-size:13px'>vietnamese</span>\n",
        "        <p style='width:450px'>at thanh vi features the freshest ... read more '' seattle , wa i would have given this place a 2 but man oh man the service was terrible .</p>\n",
        "    </div>"
       ],
       "metadata": {},
       "output_type": "display_data",
       "text": [
        "<IPython.core.display.HTML at 0x10bbeb6a0>"
       ]
      },
      {
       "output_type": "stream",
       "stream": "stdout",
       "text": [
        "0.503049133025\n"
       ]
      },
      {
       "html": [
        "\n",
        "    <div>\n",
        "        <h2>thanh-vi-seattle-2</h2>\n",
        "        <span style='color: #ca0814;'><span>$</span></span><span style='color: #e4e4e4;'><span>$</span><span>$</span><span>$</span></span><br /> \n",
        "        <span style='color: #feea60;'>\u2605\u2605\u2605\u2605</span><span style='color: #e4e4e4;'>\u2605</span>\n",
        "        <span style='color:#333;font-size:9px'>6422 words</span>\n",
        "        <br/>\n",
        "        <span style='color:#777:font-size:9px'>Categories: </span><span style='color:#333;font-size:13px'>vietnamese, breakfast_brunch, sandwiches</span>\n",
        "        <p style='width:450px'>in the restaurant . that being said , this is my favorite place to get thai takeout in all of west seattle . i crave thai food about 3 times</p>\n",
        "    </div>"
       ],
       "metadata": {},
       "output_type": "display_data",
       "text": [
        "<IPython.core.display.HTML at 0x10bbeb6a0>"
       ]
      },
      {
       "output_type": "stream",
       "stream": "stdout",
       "text": [
        "0.502622538716\n"
       ]
      },
      {
       "html": [
        "\n",
        "    <div>\n",
        "        <h2>curbside-seattle</h2>\n",
        "        <span style='color: #ca0814;'><span>$</span></span><span style='color: #e4e4e4;'><span>$</span><span>$</span><span>$</span></span><br /> \n",
        "        <span style='color: #feea60;'>\u2605\u2605\u2605\u2605</span><span style='color: #e4e4e4;'>\u2605</span>\n",
        "        <span style='color:#333;font-size:9px'>2028 words</span>\n",
        "        <br/>\n",
        "        <span style='color:#777:font-size:9px'>Categories: </span><span style='color:#333;font-size:13px'>vietnamese, sandwiches, foodtrucks</span>\n",
        "        <p style='width:450px'>review that 's to come , because it means i might not be able to get my favorite seat at the bar . ( that 's me , the one</p>\n",
        "    </div>"
       ],
       "metadata": {},
       "output_type": "display_data",
       "text": [
        "<IPython.core.display.HTML at 0x10bbeb6a0>"
       ]
      },
      {
       "output_type": "stream",
       "stream": "stdout",
       "text": [
        "0.50218007514\n"
       ]
      },
      {
       "html": [
        "\n",
        "    <div>\n",
        "        <h2>Curbside</h2>\n",
        "        <span style='color: #ca0814;'><span>$</span></span><span style='color: #e4e4e4;'><span>$</span><span>$</span><span>$</span></span><br /> \n",
        "        <span style='color: #feea60;'>\u2605\u2605\u2605\u2605</span><span style='color: #e4e4e4;'>\u2605</span>\n",
        "        <span style='color:#333;font-size:9px'>1963 words</span>\n",
        "        <br/>\n",
        "        <span style='color:#777:font-size:9px'>Categories: </span><span style='color:#333;font-size:13px'>vietnamese, sandwiches, foodtrucks</span>\n",
        "        <p style='width:450px'>fast . as fast as they can , at least . they care about their customers . and the food is gooooood . and cheap . so an all around</p>\n",
        "    </div>"
       ],
       "metadata": {},
       "output_type": "display_data",
       "text": [
        "<IPython.core.display.HTML at 0x10bbeb6a0>"
       ]
      },
      {
       "output_type": "stream",
       "stream": "stdout",
       "text": [
        "0.50218007514\n"
       ]
      },
      {
       "html": [
        "\n",
        "    <div>\n",
        "        <h2>Tony's Teriyaki & Pho</h2>\n",
        "        <span style='color: #ca0814;'><span>$</span></span><span style='color: #e4e4e4;'><span>$</span><span>$</span><span>$</span></span><br /> \n",
        "        <span style='color: #feea60;'>\u2605\u2605</span><span style='color: #e4e4e4;'>\u2605\u2605\u2605</span>\n",
        "        <span style='color:#333;font-size:9px'>2457 words</span>\n",
        "        <br/>\n",
        "        <span style='color:#777:font-size:9px'>Categories: </span><span style='color:#333;font-size:13px'>vietnamese, japanese, sandwiches</span>\n",
        "        <p style='width:450px'>i eat their sandwiches all the time . if i lived closer to lynnwood then i would definitely eat yey yey 's , as their sandwiches are the best i</p>\n",
        "    </div>"
       ],
       "metadata": {},
       "output_type": "display_data",
       "text": [
        "<IPython.core.display.HTML at 0x10bbeb6a0>"
       ]
      },
      {
       "output_type": "stream",
       "stream": "stdout",
       "text": [
        "0.501452735958\n"
       ]
      },
      {
       "html": [
        "\n",
        "    <div>\n",
        "        <h2>tonys-teriyaki-renton</h2>\n",
        "        <span style='color: #ca0814;'><span>$</span></span><span style='color: #e4e4e4;'><span>$</span><span>$</span><span>$</span></span><br /> \n",
        "        <span style='color: #feea60;'>\u2605\u2605\u2605</span><span style='color: #e4e4e4;'>\u2605\u2605</span>\n",
        "        <span style='color:#333;font-size:9px'>1046 words</span>\n",
        "        <br/>\n",
        "        <span style='color:#777:font-size:9px'>Categories: </span><span style='color:#333;font-size:13px'>vietnamese, japanese</span>\n",
        "        <p style='width:450px'>this new addition to the broadway food scene . thai & sushi you say ? madness ! this means i can enjoy sushi while my boyfriend enjoys his favorite noodle</p>\n",
        "    </div>"
       ],
       "metadata": {},
       "output_type": "display_data",
       "text": [
        "<IPython.core.display.HTML at 0x10bbeb6a0>"
       ]
      },
      {
       "output_type": "stream",
       "stream": "stdout",
       "text": [
        "0.500758217285\n"
       ]
      },
      {
       "html": [
        "\n",
        "    <div>\n",
        "        <h2>Bento Teriyaki</h2>\n",
        "        <span style='color: #ca0814;'><span>$</span></span><span style='color: #e4e4e4;'><span>$</span><span>$</span><span>$</span></span><br /> \n",
        "        <span style='color: #feea60;'>\u2605\u2605\u2605</span><span style='color: #e4e4e4;'>\u2605\u2605</span>\n",
        "        <span style='color:#333;font-size:9px'>586 words</span>\n",
        "        <br/>\n",
        "        <span style='color:#777:font-size:9px'>Categories: </span><span style='color:#333;font-size:13px'>japanese, vietnamese, chinese</span>\n",
        "        <p style='width:450px'>who has never had pho before . service was great and definitely will make this place a regular dinner option . kent , wa no flavor and super dry not</p>\n",
        "    </div>"
       ],
       "metadata": {},
       "output_type": "display_data",
       "text": [
        "<IPython.core.display.HTML at 0x10bbeb6a0>"
       ]
      },
      {
       "output_type": "stream",
       "stream": "stdout",
       "text": [
        "0.500753995282\n"
       ]
      },
      {
       "html": [
        "\n",
        "    <div>\n",
        "        <h2>O Pho & Teriyaki</h2>\n",
        "        <span style='color: #ca0814;'><span>$</span></span><span style='color: #e4e4e4;'><span>$</span><span>$</span><span>$</span></span><br /> \n",
        "        <span style='color: #feea60;'>\u2605\u2605\u2605</span><span style='color: #e4e4e4;'>\u2605\u2605</span>\n",
        "        <span style='color:#333;font-size:9px'>2180 words</span>\n",
        "        <br/>\n",
        "        <span style='color:#777:font-size:9px'>Categories: </span><span style='color:#333;font-size:13px'>japanese, chinese, vietnamese</span>\n",
        "        <p style='width:450px'>however , i have been to 4 other chinee restaurants in federal way , one in tacoma , one in kent , one in olympia , and one in bellevue</p>\n",
        "    </div>"
       ],
       "metadata": {},
       "output_type": "display_data",
       "text": [
        "<IPython.core.display.HTML at 0x10bbeb6a0>"
       ]
      },
      {
       "output_type": "stream",
       "stream": "stdout",
       "text": [
        "0.500583585075\n"
       ]
      },
      {
       "html": [
        "\n",
        "    <div>\n",
        "        <h2>o-pho-and-teriyaki-kent-2</h2>\n",
        "        <span style='color: #ca0814;'><span>$</span></span><span style='color: #e4e4e4;'><span>$</span><span>$</span><span>$</span></span><br /> \n",
        "        <span style='color: #feea60;'>\u2605\u2605\u2605</span><span style='color: #e4e4e4;'>\u2605\u2605</span>\n",
        "        <span style='color:#333;font-size:9px'>2180 words</span>\n",
        "        <br/>\n",
        "        <span style='color:#777:font-size:9px'>Categories: </span><span style='color:#333;font-size:13px'>japanese, chinese, vietnamese</span>\n",
        "        <p style='width:450px'>in the area for frozen yogurt at 3 berries . peking chef was a few doors down . we wanted chinese for dinner but i was n't so sure about</p>\n",
        "    </div>"
       ],
       "metadata": {},
       "output_type": "display_data",
       "text": [
        "<IPython.core.display.HTML at 0x10bbeb6a0>"
       ]
      },
      {
       "output_type": "stream",
       "stream": "stdout",
       "text": [
        "0.500583585075\n"
       ]
      },
      {
       "html": [
        "\n",
        "    <div>\n",
        "        <h2>Renton Teriyaki & Pho</h2>\n",
        "        <span style='color: #ca0814;'><span>$</span></span><span style='color: #e4e4e4;'><span>$</span><span>$</span><span>$</span></span><br /> \n",
        "        <span style='color: #feea60;'>\u2605\u2605\u2605</span><span style='color: #e4e4e4;'>\u2605\u2605</span>\n",
        "        <span style='color:#333;font-size:9px'>1120 words</span>\n",
        "        <br/>\n",
        "        <span style='color:#777:font-size:9px'>Categories: </span><span style='color:#333;font-size:13px'>japanese, vietnamese</span>\n",
        "        <p style='width:450px'>the corner . they really need to keep on top of cleaning the tables , but the \\ `` rather weird cashier / server guy \\ `` that ryan c</p>\n",
        "    </div>"
       ],
       "metadata": {},
       "output_type": "display_data",
       "text": [
        "<IPython.core.display.HTML at 0x10bbeb6a0>"
       ]
      },
      {
       "output_type": "stream",
       "stream": "stdout",
       "text": [
        "0.500579817545\n"
       ]
      }
     ],
     "prompt_number": 6
    },
    {
     "cell_type": "code",
     "collapsed": false,
     "input": [],
     "language": "python",
     "metadata": {},
     "outputs": []
    }
   ],
   "metadata": {}
  }
 ]
}