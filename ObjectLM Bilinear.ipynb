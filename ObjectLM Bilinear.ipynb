{
 "metadata": {
  "name": "",
  "signature": "sha256:e08cd1532d9b03f317992373656a0cdfe88a3804bb9486f255f62bfaf1947c60"
 },
 "nbformat": 3,
 "nbformat_minor": 0,
 "worksheets": [
  {
   "cells": [
    {
     "cell_type": "code",
     "collapsed": false,
     "input": [
      "%load_ext cythonmagic\n",
      "%load_ext autoreload\n",
      "%matplotlib inline\n",
      "%autoreload 2\n",
      "import numpy as np, os, sys, re\n",
      "import gzip, pickle\n",
      "import matplotlib.pyplot as plt\n",
      "%config InlineBackend.figure_format = 'svg'\n",
      "import scipy.cluster.hierarchy\n",
      "from collections import OrderedDict\n",
      "from word2vec_extended import Word2VecExtended\n",
      "from IPython.display import clear_output\n",
      "from utils import present_restaurant, get_adjacency_matrix, get_degree_matrix, assign_parents\n",
      "from scipy.cluster.hierarchy import linkage, to_tree, dendrogram\n",
      "from IPython.display import display, HTML\n",
      "import re\n",
      "sys.path.append(\"/Users/jonathanraiman/Desktop/Coding/language_modeling/\")\n",
      "from objectlm import ObjectLM, CategoriesConverter, DatasetGenerator, HierarchicalObservation\n",
      "lmsenti = Word2VecExtended.load(\"/Users/jonathanraiman/Desktop/Coding/language_modeling/saves/kid_model_30_oov_senti\")"
     ],
     "language": "python",
     "metadata": {},
     "outputs": [
      {
       "output_type": "stream",
       "stream": "stdout",
       "text": [
        "The cythonmagic extension is already loaded. To reload it, use:\n",
        "  %reload_ext cythonmagic\n",
        "The autoreload extension is already loaded. To reload it, use:\n",
        "  %reload_ext autoreload\n"
       ]
      }
     ],
     "prompt_number": 110
    },
    {
     "cell_type": "code",
     "collapsed": false,
     "input": [
      "file = gzip.open(\"saves/saved_texts.gz\", 'r')\n",
      "texts, texts_data = pickle.load(file)\n",
      "file.close()"
     ],
     "language": "python",
     "metadata": {},
     "outputs": [],
     "prompt_number": 2
    },
    {
     "cell_type": "code",
     "collapsed": false,
     "input": [
      "categories = set()\n",
      "for el in texts_data:\n",
      "    for c in el[\"categories\"]:\n",
      "        categories.add(c)\n",
      "catconvert = CategoriesConverter(categories)\n",
      "dataset_gen = DatasetGenerator(texts, texts_data, catconvert)\n",
      "\n",
      "# should modify this to do some auto-encoding / self regression.\n",
      "model = ObjectLM(\n",
      "    vocabulary = lmsenti,\n",
      "    object_vocabulary_size = len(texts),\n",
      "    window = 10,\n",
      "    bilinear_form = True,\n",
      "    size = 20,\n",
      "    object_size = 20,\n",
      "    output_sigmoid_classes = catconvert.num_categories,\n",
      "    output_sigmoid_labels = catconvert.index2category,\n",
      "    output_labels = [[\"\", \"$\", \"$$\", \"$$$\", \"$$$$\"], [\"1\", \"2\", \"3\", \"4\", \"5\"]],\n",
      "    output_classes=[5, 5] # \"\", \"$\", \"$$\",...,\"$$$$\", 5 price classes, and 5 rating classes\n",
      ")\n",
      "model.load_saved_weights(\"saves/bilinear/objectlm_window_10_lm_20_objlm_20_4/\")\n",
      "#model.create_normalized_matrices()"
     ],
     "language": "python",
     "metadata": {},
     "outputs": [],
     "prompt_number": 3
    },
    {
     "cell_type": "markdown",
     "metadata": {},
     "source": [
      "We train the bilinear ObjectLM for 5 epochs:"
     ]
    },
    {
     "cell_type": "code",
     "collapsed": false,
     "input": [
      "import logging\n",
      "logger = logging.getLogger(\"objectlm.training\")\n",
      "logger.setLevel(logging.INFO)\n",
      "min_alpha = float(0.0001)\n",
      "max_alpha = float(0.0035)\n",
      "max_epoch = 5\n",
      "for epoch in range(0, max_epoch):\n",
      "    alpha = max(min_alpha, max_alpha * (1. - (float(epoch) / float(max_epoch))))\n",
      "    model._alpha = alpha\n",
      "    objects, err = model.train(dataset_gen, workers = 8, chunksize = 24)\n",
      "    model.save_model(\"saves/bilinear/objectlm_window_10_lm_20_objlm_20_%d/\" % (epoch))\n",
      "    print(\"Epoch = %d, Error = %.3f, alpha = %.3f\" % (epoch, err, alpha))"
     ],
     "language": "python",
     "metadata": {},
     "outputs": []
    },
    {
     "cell_type": "markdown",
     "metadata": {},
     "source": [
      "We construct the hierarchical cluster using euclidean distance and obtain a covariance matrix for making inferences"
     ]
    },
    {
     "cell_type": "code",
     "collapsed": false,
     "input": [
      "if os.path.exists(\"saves/bilinear/__linkage_average.npy\"):\n",
      "    Z = np.load(\"saves/bilinear/__linkage_average.npy\")\n",
      "else:\n",
      "    y = model.object_matrix.get_value(borrow=True)\n",
      "    Z = linkage(y, method='average', metric='cosine')\n",
      "    np.save(\"saves/bilinear/__linkage_average.npy\", Z)\n",
      "    \n",
      "if os.path.exists(\"saves/bilinear/__covariance__.npy\"):\n",
      "    Cov = np.load(\"saves/bilinear/__covariance__.npy\")\n",
      "    observables = HierarchicalObservation(Cov)\n",
      "else:\n",
      "    root, nodes = to_tree(Z, rd=True)\n",
      "    assign_parents(root)\n",
      "    adj_mat = get_adjacency_matrix(nodes)\n",
      "    deg_mat = get_degree_matrix(nodes)\n",
      "    sigma = 5\n",
      "    laplacian = np.diag(deg_mat) - adj_mat + 1/(sigma**2) * np.eye(len(deg_mat))\n",
      "    Cov = np.linalg.inv(laplacian)\n",
      "    np.save(\"saves/bilinear/__covariance__.npy\", Cov)\n",
      "    observables = HierarchicalObservation(Cov)\n",
      "    \n",
      "    \n",
      "from pyxdameraulevenshtein import damerau_levenshtein_distance as levenshtein_distance\n",
      "\n",
      "def search_for_object(self, object_index, topn = 10, metric = 'cosine'):\n",
      "    present_restaurant(texts_data[object_index], text = texts[object_index])\n",
      "    display(HTML(\"<small>%d</small>\" % object_index))\n",
      "    \n",
      "    print(object_index)\n",
      "    \n",
      "    results = self.most_similar_object(object_index, topn=topn, metric = metric)\n",
      "    if metric == 'euclidean':\n",
      "        max_distance = max(result[1] for result in results)\n",
      "    else:\n",
      "        max_distance = 1\n",
      "    \n",
      "    for result, distance in results:\n",
      "        present_restaurant(texts_data[result], text = texts[result])\n",
      "        display(HTML(\"<small>%d</small>\" % result))\n",
      "        display(HTML(\"\"\"\n",
      "            <div>\n",
      "                <div style='background: rgb(221,222,223);width:102px;padding:1px;border-radius:2px'>\n",
      "                    <div style='height:20px; width:%dpx;padding-left:3px;background-color:rgb(71, 189, 249);font-size:9px;color:white'>\n",
      "                        %.0f%%\n",
      "                    </div>\n",
      "                </div>\n",
      "            </div>\n",
      "            \"\"\" % (int(distance * 100 / max_distance), distance * 100 / max_distance)))\n",
      "        \n",
      "def nearest_name(text, levenshtein = True):\n",
      "    text = text.lower()\n",
      "    min_distance_index = -1\n",
      "    min_distance = float('inf')\n",
      "    min_distance_word = None\n",
      "    \n",
      "    for i, datum in enumerate(texts_data):\n",
      "        if levenshtein:\n",
      "            min_local_distance = float('inf')\n",
      "            if datum[\"_id\"].lower().find(text) != -1:\n",
      "                min_local_distance = 3\n",
      "                if min_local_distance < min_distance:\n",
      "                    min_distance_word = datum[\"_id\"]\n",
      "                    min_distance = min_local_distance\n",
      "                    min_distance_index = i\n",
      "            for scrap in re.split( \"[ -]\", datum[\"_id\"].lower()) + [datum[\"_id\"].lower()] + datum[\"categories\"]:\n",
      "                min_local_distance = min(min_local_distance, levenshtein_distance(text, scrap))\n",
      "                if min_local_distance < min_distance:\n",
      "                    min_distance_word = scrap\n",
      "                    min_distance = min_local_distance\n",
      "                    min_distance_index = i\n",
      "            if min_distance <= 1:\n",
      "                break\n",
      "        else:\n",
      "            if datum[\"_id\"].lower().find(text) != -1 or datum[\"id\"].lower().find(text) != -1:\n",
      "                min_distance = i\n",
      "                break\n",
      "            for cat in datum[\"categories\"]:\n",
      "                if cat.lower().find(text) != -1:\n",
      "                    min_distance = i\n",
      "                    break\n",
      "    \n",
      "    \n",
      "    if min_distance_index == -1 or min_distance == len(text) or min_distance == len(min_distance_word):\n",
      "        return (None, None, None)\n",
      "    else:\n",
      "        return (min_distance_word, min_distance_index, min_distance)\n",
      "\n",
      "def search_with_text(self, text, topn = 10, levenshtein = True, metric = 'cosine'):\n",
      "    min_distance_word, min_distance_index, min_distance = nearest_name(text, levenshtein=levenshtein)\n",
      "    \n",
      "    if min_distance_index == None:\n",
      "        print(\"Could not be found\")\n",
      "    else:\n",
      "        if min_distance > 0:\n",
      "            display(HTML(\"\"\"\n",
      "            <span style=\"color: #333\">Did you mean </span> <b>%s</b> <span style=\"color: #333\">(%d edit%s)</span> ?\n",
      "            \"\"\" % (min_distance_word, min_distance, \"s\" if min_distance != 1 else \"\")))\n",
      "        return search_for_object(self, min_distance_index, topn=topn, metric = metric)\n",
      "    \n",
      "INDEX_SET = set(range(0,model.object_vocabulary_size))\n",
      "\n",
      "def show_conditional_probs(query=\"thai\", topn=20, testn=2):\n",
      "    min_distance_word, min_distance_index, min_distance = nearest_name(query)\n",
      "    present_restaurant(texts_data[min_distance_index], text=texts[min_distance_index])\n",
      "    test_indices = [min_distance_index] + [i[0] for i in model.most_similar_object(min_distance_index)][:testn-1]\n",
      "    result_inds, result_probs = observables.conditional_probabilities(test_indices, remaining_indices = list(INDEX_SET - set(test_indices)))\n",
      "\n",
      "    top_results = np.argsort(result_probs[:,0])[::-1][:topn]\n",
      "\n",
      "    for i in range(topn):\n",
      "        present_restaurant(texts_data[result_inds[top_results[i]]], text=texts[result_inds[top_results[i]]])\n",
      "        print(result_probs[top_results[i],0])\n",
      "        \n",
      "def show_conditional_probs_from_index(indices, topn=20):\n",
      "    result_inds, result_probs = observables.conditional_probabilities(indices, remaining_indices = list(INDEX_SET - set(indices)))\n",
      "\n",
      "    top_results = np.argsort(result_probs[:,0])[::-1][:topn]\n",
      "\n",
      "    for i in range(topn):\n",
      "        present_restaurant(texts_data[result_inds[top_results[i]]], text=texts[result_inds[top_results[i]]])\n",
      "        print(result_probs[top_results[i],0])"
     ],
     "language": "python",
     "metadata": {},
     "outputs": [],
     "prompt_number": 120
    },
    {
     "cell_type": "code",
     "collapsed": false,
     "input": [
      "show_conditional_probs(\"Wild Ginger\", testn=1)"
     ],
     "language": "python",
     "metadata": {},
     "outputs": [
      {
       "html": [
        "\n",
        "    <div>\n",
        "        <h2>Wild Ginger</h2>\n",
        "        <span style='color: #ca0814;'><span>$</span><span>$</span><span>$</span></span><span style='color: #e4e4e4;'><span>$</span></span><br /> \n",
        "        <span style='color: #feea60;'>\u2605\u2605\u2605</span><span style='color: #e4e4e4;'>\u2605\u2605</span>\n",
        "        <span style='color:#333;font-size:9px'>6350 words</span>\n",
        "        <br/>\n",
        "        <span style='color:#777:font-size:9px'>Categories: </span><span style='color:#333;font-size:13px'>asianfusion, thai, chinese</span>\n",
        "        <p style='width:450px'>over to check out wild ginger . we had a reservation for 8pm but arrived at 7 : 30pm and were seated immediately , which was nice . the food</p>\n",
        "    </div>"
       ],
       "metadata": {},
       "output_type": "display_data",
       "text": [
        "<IPython.core.display.HTML at 0x1125de358>"
       ]
      },
      {
       "html": [
        "\n",
        "    <div>\n",
        "        <h2>wild-ginger-seattle</h2>\n",
        "        <span style='color: #ca0814;'><span>$</span><span>$</span><span>$</span></span><span style='color: #e4e4e4;'><span>$</span></span><br /> \n",
        "        <span style='color: #feea60;'>\u2605\u2605\u2605</span><span style='color: #e4e4e4;'>\u2605\u2605</span>\n",
        "        <span style='color:#333;font-size:9px'>6415 words</span>\n",
        "        <br/>\n",
        "        <span style='color:#777:font-size:9px'>Categories: </span><span style='color:#333;font-size:13px'>asianfusion, thai, chinese</span>\n",
        "        <p style='width:450px'>our go-to chinese food delivery restaurant to our home in edmonds . i did n't think they delivered that far but they do , and they have always been timely</p>\n",
        "    </div>"
       ],
       "metadata": {},
       "output_type": "display_data",
       "text": [
        "<IPython.core.display.HTML at 0x1125de358>"
       ]
      },
      {
       "output_type": "stream",
       "stream": "stdout",
       "text": [
        "0.551592125399\n"
       ]
      },
      {
       "html": [
        "\n",
        "    <div>\n",
        "        <h2>Harbor Caf\u00e9</h2>\n",
        "        <span style='color: #ca0814;'><span>$</span></span><span style='color: #e4e4e4;'><span>$</span><span>$</span><span>$</span></span><br /> \n",
        "        <span style='color: #feea60;'>\u2605\u2605\u2605\u2605</span><span style='color: #e4e4e4;'>\u2605</span>\n",
        "        <span style='color:#333;font-size:9px'>7177 words</span>\n",
        "        <br/>\n",
        "        <span style='color:#777:font-size:9px'>Categories: </span><span style='color:#333;font-size:13px'>thai, asianfusion, cafes</span>\n",
        "        <p style='width:450px'>you can tell they all love their jobs . my food arrived in less than 4 minutes . inexpensive too . my lunch was $ 9 , including a drink</p>\n",
        "    </div>"
       ],
       "metadata": {},
       "output_type": "display_data",
       "text": [
        "<IPython.core.display.HTML at 0x1125de358>"
       ]
      },
      {
       "output_type": "stream",
       "stream": "stdout",
       "text": [
        "0.508804227976\n"
       ]
      },
      {
       "html": [
        "\n",
        "    <div>\n",
        "        <h2>harbor-caf\u00e9-seattle-2</h2>\n",
        "        <span style='color: #ca0814;'><span>$</span></span><span style='color: #e4e4e4;'><span>$</span><span>$</span><span>$</span></span><br /> \n",
        "        <span style='color: #feea60;'>\u2605\u2605\u2605\u2605</span><span style='color: #e4e4e4;'>\u2605</span>\n",
        "        <span style='color:#333;font-size:9px'>7219 words</span>\n",
        "        <br/>\n",
        "        <span style='color:#777:font-size:9px'>Categories: </span><span style='color:#333;font-size:13px'>thai, asianfusion, cafes</span>\n",
        "        <p style='width:450px'>toey ' ( chicken wraps ) , ` hor mok ' ( salmon curry cup ) , trout ... read more '' tampa , fl food is really good .</p>\n",
        "    </div>"
       ],
       "metadata": {},
       "output_type": "display_data",
       "text": [
        "<IPython.core.display.HTML at 0x1125de358>"
       ]
      },
      {
       "output_type": "stream",
       "stream": "stdout",
       "text": [
        "0.508804227976\n"
       ]
      },
      {
       "html": [
        "\n",
        "    <div>\n",
        "        <h2>Bang Bar Thai Restaurant and Lounge</h2>\n",
        "        <span style='color: #ca0814;'><span>$</span><span>$</span></span><span style='color: #e4e4e4;'><span>$</span><span>$</span></span><br /> \n",
        "        <span style='color: #feea60;'>\u2605\u2605\u2605</span><span style='color: #e4e4e4;'>\u2605\u2605</span>\n",
        "        <span style='color:#333;font-size:9px'>7600 words</span>\n",
        "        <br/>\n",
        "        <span style='color:#777:font-size:9px'>Categories: </span><span style='color:#333;font-size:13px'>thai, asianfusion, lounges</span>\n",
        "        <p style='width:450px'>by armi cleo n . '' the food was very good , and presented just as exquisitely as well . '' '' ... delicious for appetizers , try the money</p>\n",
        "    </div>"
       ],
       "metadata": {},
       "output_type": "display_data",
       "text": [
        "<IPython.core.display.HTML at 0x1125de358>"
       ]
      },
      {
       "output_type": "stream",
       "stream": "stdout",
       "text": [
        "0.50558595525\n"
       ]
      },
      {
       "html": [
        "\n",
        "    <div>\n",
        "        <h2>bang-bar-thai-restaurant-and-lounge-seattle</h2>\n",
        "        <span style='color: #ca0814;'><span>$</span><span>$</span></span><span style='color: #e4e4e4;'><span>$</span><span>$</span></span><br /> \n",
        "        <span style='color: #feea60;'>\u2605\u2605\u2605</span><span style='color: #e4e4e4;'>\u2605\u2605</span>\n",
        "        <span style='color:#333;font-size:9px'>7476 words</span>\n",
        "        <br/>\n",
        "        <span style='color:#777:font-size:9px'>Categories: </span><span style='color:#333;font-size:13px'>thai, asianfusion, lounges</span>\n",
        "        <p style='width:450px'>and presented just as exquisitely as well . '' '' ... delicious for appetizers , try the money bags , for dinner , try the ... '' '' the beef</p>\n",
        "    </div>"
       ],
       "metadata": {},
       "output_type": "display_data",
       "text": [
        "<IPython.core.display.HTML at 0x1125de358>"
       ]
      },
      {
       "output_type": "stream",
       "stream": "stdout",
       "text": [
        "0.50558595525\n"
       ]
      },
      {
       "html": [
        "\n",
        "    <div>\n",
        "        <h2>Island Grill</h2>\n",
        "        <span style='color: #ca0814;'><span>$</span><span>$</span></span><span style='color: #e4e4e4;'><span>$</span><span>$</span></span><br /> \n",
        "        <span style='color: #feea60;'>\u2605\u2605</span><span style='color: #e4e4e4;'>\u2605\u2605\u2605</span>\n",
        "        <span style='color:#333;font-size:9px'>3190 words</span>\n",
        "        <br/>\n",
        "        <span style='color:#777:font-size:9px'>Categories: </span><span style='color:#333;font-size:13px'>asianfusion, thai, tradamerican</span>\n",
        "        <p style='width:450px'>'m sure it 's a 2 star joint , not even 2 . 5 stars . the wait times have gotten no better , and now both times the restaurant</p>\n",
        "    </div>"
       ],
       "metadata": {},
       "output_type": "display_data",
       "text": [
        "<IPython.core.display.HTML at 0x1125de358>"
       ]
      },
      {
       "output_type": "stream",
       "stream": "stdout",
       "text": [
        "0.505221129587\n"
       ]
      },
      {
       "html": [
        "\n",
        "    <div>\n",
        "        <h2>racha-thai-and-asian-kitchen-tukwila</h2>\n",
        "        <span style='color: #ca0814;'><span>$</span><span>$</span></span><span style='color: #e4e4e4;'><span>$</span><span>$</span></span><br /> \n",
        "        <span style='color: #feea60;'>\u2605\u2605</span><span style='color: #e4e4e4;'>\u2605\u2605\u2605</span>\n",
        "        <span style='color:#333;font-size:9px'>8525 words</span>\n",
        "        <br/>\n",
        "        <span style='color:#777:font-size:9px'>Categories: </span><span style='color:#333;font-size:13px'>thai, asianfusion</span>\n",
        "        <p style='width:450px'>plate . by daren d . '' all day happy hour in the bar $ 2 beer $ 3 wine $ 4 . 50 wells . '' '' great food</p>\n",
        "    </div>"
       ],
       "metadata": {},
       "output_type": "display_data",
       "text": [
        "<IPython.core.display.HTML at 0x1125de358>"
       ]
      },
      {
       "output_type": "stream",
       "stream": "stdout",
       "text": [
        "0.502738525466\n"
       ]
      },
      {
       "html": [
        "\n",
        "    <div>\n",
        "        <h2>Racha Thai & Asian Kitchen</h2>\n",
        "        <span style='color: #ca0814;'><span>$</span><span>$</span></span><span style='color: #e4e4e4;'><span>$</span><span>$</span></span><br /> \n",
        "        <span style='color: #feea60;'>\u2605\u2605</span><span style='color: #e4e4e4;'>\u2605\u2605\u2605</span>\n",
        "        <span style='color:#333;font-size:9px'>8475 words</span>\n",
        "        <br/>\n",
        "        <span style='color:#777:font-size:9px'>Categories: </span><span style='color:#333;font-size:13px'>thai, asianfusion</span>\n",
        "        <p style='width:450px'>yeah , they tend to be incredibly understaffed every time i 've come and do n't always seem be able to handle much but it 's about what i 've</p>\n",
        "    </div>"
       ],
       "metadata": {},
       "output_type": "display_data",
       "text": [
        "<IPython.core.display.HTML at 0x1125de358>"
       ]
      },
      {
       "output_type": "stream",
       "stream": "stdout",
       "text": [
        "0.502738525466\n"
       ]
      },
      {
       "html": [
        "\n",
        "    <div>\n",
        "        <h2>thai-chifa-seatac</h2>\n",
        "        <span style='color: #ca0814;'><span></span></span><span style='color: #e4e4e4;'><span>$</span><span>$</span><span>$</span><span>$</span></span><br /> \n",
        "        <span style='color: #feea60;'>\u2605\u2605</span><span style='color: #e4e4e4;'>\u2605\u2605\u2605</span>\n",
        "        <span style='color:#333;font-size:9px'>526 words</span>\n",
        "        <br/>\n",
        "        <span style='color:#777:font-size:9px'>Categories: </span><span style='color:#333;font-size:13px'>peruvian, thai, chinese</span>\n",
        "        <p style='width:450px'>. however , i have been to 4 other chinee restaurants in federal way , one in tacoma , one in kent , one in olympia , and one in</p>\n",
        "    </div>"
       ],
       "metadata": {},
       "output_type": "display_data",
       "text": [
        "<IPython.core.display.HTML at 0x1125de358>"
       ]
      },
      {
       "output_type": "stream",
       "stream": "stdout",
       "text": [
        "0.502543838985\n"
       ]
      },
      {
       "html": [
        "\n",
        "    <div>\n",
        "        <h2>Thai Chifa</h2>\n",
        "        <span style='color: #ca0814;'><span></span></span><span style='color: #e4e4e4;'><span>$</span><span>$</span><span>$</span><span>$</span></span><br /> \n",
        "        <span style='color: #feea60;'>\u2605\u2605</span><span style='color: #e4e4e4;'>\u2605\u2605\u2605</span>\n",
        "        <span style='color:#333;font-size:9px'>526 words</span>\n",
        "        <br/>\n",
        "        <span style='color:#777:font-size:9px'>Categories: </span><span style='color:#333;font-size:13px'>peruvian, thai, chinese</span>\n",
        "        <p style='width:450px'>were in the area for frozen yogurt at 3 berries . peking chef was a few doors down . we wanted chinese for dinner but i was n't so sure</p>\n",
        "    </div>"
       ],
       "metadata": {},
       "output_type": "display_data",
       "text": [
        "<IPython.core.display.HTML at 0x1125de358>"
       ]
      },
      {
       "output_type": "stream",
       "stream": "stdout",
       "text": [
        "0.502543838985\n"
       ]
      },
      {
       "html": [
        "\n",
        "    <div>\n",
        "        <h2>Treasure Thai Cousine</h2>\n",
        "        <span style='color: #ca0814;'><span></span></span><span style='color: #e4e4e4;'><span>$</span><span>$</span><span>$</span><span>$</span></span><br /> \n",
        "        <span style='color: #feea60;'>\u2605\u2605</span><span style='color: #e4e4e4;'>\u2605\u2605\u2605</span>\n",
        "        <span style='color:#333;font-size:9px'>33 words</span>\n",
        "        <br/>\n",
        "        <span style='color:#777:font-size:9px'>Categories: </span><span style='color:#333;font-size:13px'>thai</span>\n",
        "        <p style='width:450px'>there 's lots of better options for thai in wallingford and especially fremont</p>\n",
        "    </div>"
       ],
       "metadata": {},
       "output_type": "display_data",
       "text": [
        "<IPython.core.display.HTML at 0x1125de358>"
       ]
      },
      {
       "output_type": "stream",
       "stream": "stdout",
       "text": [
        "0.502532095235\n"
       ]
      },
      {
       "html": [
        "\n",
        "    <div>\n",
        "        <h2>treasure-thai-cousine-seattle</h2>\n",
        "        <span style='color: #ca0814;'><span></span></span><span style='color: #e4e4e4;'><span>$</span><span>$</span><span>$</span><span>$</span></span><br /> \n",
        "        <span style='color: #feea60;'>\u2605\u2605</span><span style='color: #e4e4e4;'>\u2605\u2605\u2605</span>\n",
        "        <span style='color:#333;font-size:9px'>89 words</span>\n",
        "        <br/>\n",
        "        <span style='color:#777:font-size:9px'>Categories: </span><span style='color:#333;font-size:13px'>thai</span>\n",
        "        <p style='width:450px'>this new addition to the broadway food scene . thai & sushi you say ? madness ! this means i can enjoy sushi while my boyfriend enjoys his favorite noodle</p>\n",
        "    </div>"
       ],
       "metadata": {},
       "output_type": "display_data",
       "text": [
        "<IPython.core.display.HTML at 0x1125de358>"
       ]
      },
      {
       "output_type": "stream",
       "stream": "stdout",
       "text": [
        "0.502532095235\n"
       ]
      },
      {
       "html": [
        "\n",
        "    <div>\n",
        "        <h2>bai-pai-seattle</h2>\n",
        "        <span style='color: #ca0814;'><span>$</span><span>$</span></span><span style='color: #e4e4e4;'><span>$</span><span>$</span></span><br /> \n",
        "        <span style='color: #feea60;'>\u2605\u2605\u2605\u2605</span><span style='color: #e4e4e4;'>\u2605</span>\n",
        "        <span style='color:#333;font-size:9px'>6940 words</span>\n",
        "        <br/>\n",
        "        <span style='color:#777:font-size:9px'>Categories: </span><span style='color:#333;font-size:13px'>thai, lounges</span>\n",
        "        <p style='width:450px'>, local thai place and i can totally see why ! we dined for lunch and since it was an off hour , had the place to ourselves . set</p>\n",
        "    </div>"
       ],
       "metadata": {},
       "output_type": "display_data",
       "text": [
        "<IPython.core.display.HTML at 0x1125de358>"
       ]
      },
      {
       "output_type": "stream",
       "stream": "stdout",
       "text": [
        "0.502341637703\n"
       ]
      },
      {
       "html": [
        "\n",
        "    <div>\n",
        "        <h2>Bai Pai</h2>\n",
        "        <span style='color: #ca0814;'><span>$</span><span>$</span></span><span style='color: #e4e4e4;'><span>$</span><span>$</span></span><br /> \n",
        "        <span style='color: #feea60;'>\u2605\u2605\u2605\u2605</span><span style='color: #e4e4e4;'>\u2605</span>\n",
        "        <span style='color:#333;font-size:9px'>6877 words</span>\n",
        "        <br/>\n",
        "        <span style='color:#777:font-size:9px'>Categories: </span><span style='color:#333;font-size:13px'>thai, lounges</span>\n",
        "        <p style='width:450px'>great . the last time i was there , i ordered the `` traditional thai favorite : chop-chop basil chicken with fried egg and chili nampla sauce . `` it</p>\n",
        "    </div>"
       ],
       "metadata": {},
       "output_type": "display_data",
       "text": [
        "<IPython.core.display.HTML at 0x1125de358>"
       ]
      },
      {
       "output_type": "stream",
       "stream": "stdout",
       "text": [
        "0.502341637703\n"
       ]
      },
      {
       "html": [
        "\n",
        "    <div>\n",
        "        <h2>May Restaurant and Lounge</h2>\n",
        "        <span style='color: #ca0814;'><span>$</span><span>$</span></span><span style='color: #e4e4e4;'><span>$</span><span>$</span></span><br /> \n",
        "        <span style='color: #feea60;'>\u2605\u2605\u2605</span><span style='color: #e4e4e4;'>\u2605\u2605</span>\n",
        "        <span style='color:#333;font-size:9px'>6579 words</span>\n",
        "        <br/>\n",
        "        <span style='color:#777:font-size:9px'>Categories: </span><span style='color:#333;font-size:13px'>thai, lounges</span>\n",
        "        <p style='width:450px'>solely by being shocked when driving down 45th almost doing a double take with this clearly out of place / time 100 year old thai building . it 's worth</p>\n",
        "    </div>"
       ],
       "metadata": {},
       "output_type": "display_data",
       "text": [
        "<IPython.core.display.HTML at 0x1125de358>"
       ]
      },
      {
       "output_type": "stream",
       "stream": "stdout",
       "text": [
        "0.502312920617\n"
       ]
      },
      {
       "html": [
        "\n",
        "    <div>\n",
        "        <h2>Thai Bistro</h2>\n",
        "        <span style='color: #ca0814;'><span>$</span><span>$</span></span><span style='color: #e4e4e4;'><span>$</span><span>$</span></span><br /> \n",
        "        <span style='color: #feea60;'>\u2605\u2605\u2605</span><span style='color: #e4e4e4;'>\u2605\u2605</span>\n",
        "        <span style='color:#333;font-size:9px'>7515 words</span>\n",
        "        <br/>\n",
        "        <span style='color:#777:font-size:9px'>Categories: </span><span style='color:#333;font-size:13px'>thai, asianfusion</span>\n",
        "        <p style='width:450px'>peanut sauce that came with it , it was very tasty ! ! : - ) my main course for the life of me remember the name but it was</p>\n",
        "    </div>"
       ],
       "metadata": {},
       "output_type": "display_data",
       "text": [
        "<IPython.core.display.HTML at 0x1125de358>"
       ]
      },
      {
       "output_type": "stream",
       "stream": "stdout",
       "text": [
        "0.501971964795\n"
       ]
      },
      {
       "html": [
        "\n",
        "    <div>\n",
        "        <h2>limelight-thai-bistro-and-lounge-seattle-2</h2>\n",
        "        <span style='color: #ca0814;'><span>$</span></span><span style='color: #e4e4e4;'><span>$</span><span>$</span><span>$</span></span><br /> \n",
        "        <span style='color: #feea60;'>\u2605\u2605\u2605</span><span style='color: #e4e4e4;'>\u2605\u2605</span>\n",
        "        <span style='color:#333;font-size:9px'>2760 words</span>\n",
        "        <br/>\n",
        "        <span style='color:#777:font-size:9px'>Categories: </span><span style='color:#333;font-size:13px'>asianfusion, thai</span>\n",
        "        <p style='width:450px'>, we mostly order delivery , and their drivers are professional and just so nice ! the food is quality , fresh , never had a bad sushi or noodle</p>\n",
        "    </div>"
       ],
       "metadata": {},
       "output_type": "display_data",
       "text": [
        "<IPython.core.display.HTML at 0x1125de358>"
       ]
      },
      {
       "output_type": "stream",
       "stream": "stdout",
       "text": [
        "0.50196615986\n"
       ]
      },
      {
       "html": [
        "\n",
        "    <div>\n",
        "        <h2>LimeLight Thai Bistro & Lounge</h2>\n",
        "        <span style='color: #ca0814;'><span>$</span></span><span style='color: #e4e4e4;'><span>$</span><span>$</span><span>$</span></span><br /> \n",
        "        <span style='color: #feea60;'>\u2605\u2605\u2605</span><span style='color: #e4e4e4;'>\u2605\u2605</span>\n",
        "        <span style='color:#333;font-size:9px'>2699 words</span>\n",
        "        <br/>\n",
        "        <span style='color:#777:font-size:9px'>Categories: </span><span style='color:#333;font-size:13px'>asianfusion, thai</span>\n",
        "        <p style='width:450px'>from some of the other places in the area . as a plus , they have delicious food and no wait at all ! there is fresh , modern and</p>\n",
        "    </div>"
       ],
       "metadata": {},
       "output_type": "display_data",
       "text": [
        "<IPython.core.display.HTML at 0x1125de358>"
       ]
      },
      {
       "output_type": "stream",
       "stream": "stdout",
       "text": [
        "0.50196615986\n"
       ]
      },
      {
       "html": [
        "\n",
        "    <div>\n",
        "        <h2>Thai Fusion Restaurant & Lounge</h2>\n",
        "        <span style='color: #ca0814;'><span>$</span><span>$</span></span><span style='color: #e4e4e4;'><span>$</span><span>$</span></span><br /> \n",
        "        <span style='color: #feea60;'>\u2605\u2605\u2605</span><span style='color: #e4e4e4;'>\u2605\u2605</span>\n",
        "        <span style='color:#333;font-size:9px'>6966 words</span>\n",
        "        <br/>\n",
        "        <span style='color:#777:font-size:9px'>Categories: </span><span style='color:#333;font-size:13px'>thai, lounges</span>\n",
        "        <p style='width:450px'>of my favorite places to eat out . was this review ... ? seattle , wa i 've tried to give this place the benefit of the doubt time and</p>\n",
        "    </div>"
       ],
       "metadata": {},
       "output_type": "display_data",
       "text": [
        "<IPython.core.display.HTML at 0x1125de358>"
       ]
      },
      {
       "output_type": "stream",
       "stream": "stdout",
       "text": [
        "0.501745608813\n"
       ]
      },
      {
       "html": [
        "\n",
        "    <div>\n",
        "        <h2>thai-bistro-shoreline</h2>\n",
        "        <span style='color: #ca0814;'><span>$</span><span>$</span></span><span style='color: #e4e4e4;'><span>$</span><span>$</span></span><br /> \n",
        "        <span style='color: #feea60;'>\u2605\u2605\u2605</span><span style='color: #e4e4e4;'>\u2605\u2605</span>\n",
        "        <span style='color:#333;font-size:9px'>7547 words</span>\n",
        "        <br/>\n",
        "        <span style='color:#777:font-size:9px'>Categories: </span><span style='color:#333;font-size:13px'>thai, asianfusion</span>\n",
        "        <p style='width:450px'>hometown of chiang mai without ever having to leave the country . vancouver , wa i ordered a lamb satay as an appetizer and it was delicious ! ! i</p>\n",
        "    </div>"
       ],
       "metadata": {},
       "output_type": "display_data",
       "text": [
        "<IPython.core.display.HTML at 0x1125de358>"
       ]
      },
      {
       "output_type": "stream",
       "stream": "stdout",
       "text": [
        "0.50150430144\n"
       ]
      }
     ],
     "prompt_number": 122
    },
    {
     "cell_type": "code",
     "collapsed": false,
     "input": [],
     "language": "python",
     "metadata": {},
     "outputs": []
    }
   ],
   "metadata": {}
  }
 ]
}