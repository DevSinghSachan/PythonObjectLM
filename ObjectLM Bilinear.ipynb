{
 "metadata": {
  "name": "",
  "signature": "sha256:69db3035cb6b9db40dcca80150639e38db515a57daaf4379edbdb46050177f4c"
 },
 "nbformat": 3,
 "nbformat_minor": 0,
 "worksheets": [
  {
   "cells": [
    {
     "cell_type": "code",
     "collapsed": false,
     "input": [
      "%load_ext cythonmagic\n",
      "%load_ext autoreload\n",
      "\n",
      "%matplotlib inline\n",
      "%autoreload 2\n",
      "import numpy as np\n",
      "import gzip, pickle\n",
      "import matplotlib.pyplot as plt\n",
      "%config InlineBackend.figure_format = 'svg'\n",
      "import scipy.cluster.hierarchy\n",
      "from collections import OrderedDict\n",
      "from word2vec_extended import Word2VecExtended\n",
      "from IPython.display import clear_output\n",
      "import sys\n",
      "from utils import present_restaurant\n",
      "from IPython.display import display, HTML\n",
      "import re\n",
      "sys.path.append(\"/Users/jonathanraiman/Desktop/Coding/language_modeling/\")\n",
      "from objectlm import ObjectLM, CategoriesConverter, DatasetGenerator\n",
      "lmsenti = Word2VecExtended.load(\"/Users/jonathanraiman/Desktop/Coding/language_modeling/saves/kid_model_30_oov_senti\")"
     ],
     "language": "python",
     "metadata": {},
     "outputs": [],
     "prompt_number": 1
    },
    {
     "cell_type": "code",
     "collapsed": false,
     "input": [
      "file = gzip.open(\"saves/saved_texts.gz\", 'r')\n",
      "texts, texts_data = pickle.load(file)\n",
      "file.close()"
     ],
     "language": "python",
     "metadata": {},
     "outputs": [],
     "prompt_number": 2
    },
    {
     "cell_type": "code",
     "collapsed": false,
     "input": [
      "categories = set()\n",
      "for el in texts_data:\n",
      "    for c in el[\"categories\"]:\n",
      "        categories.add(c)\n",
      "catconvert = CategoriesConverter(categories)\n",
      "dataset_gen = DatasetGenerator(texts, texts_data, catconvert)\n",
      "\n",
      "# should modify this to do some auto-encoding / self regression.\n",
      "model = ObjectLM(\n",
      "    vocabulary = lmsenti,\n",
      "    object_vocabulary_size = len(texts),\n",
      "    window = 10,\n",
      "    bilinear_form = True,\n",
      "    size = 20,\n",
      "    object_size = 20,\n",
      "    output_sigmoid_classes = catconvert.num_categories,\n",
      "    output_sigmoid_labels = catconvert.index2category,\n",
      "    output_labels = [[\"\", \"$\", \"$$\", \"$$$\", \"$$$$\"], [\"1\", \"2\", \"3\", \"4\", \"5\"]],\n",
      "    output_classes=[5, 5] # \"\", \"$\", \"$$\",...,\"$$$$\", 5 price classes, and 5 rating classes\n",
      ")\n",
      "#model.load_saved_weights(\"saves/objectlm_window_10_lm_20_objlm_20_4/\")\n",
      "#model.create_normalized_matrices()"
     ],
     "language": "python",
     "metadata": {},
     "outputs": [],
     "prompt_number": 3
    },
    {
     "cell_type": "code",
     "collapsed": false,
     "input": [
      "import logging\n",
      "logger = logging.getLogger(\"objectlm.training\")\n",
      "logger.setLevel(logging.INFO)\n",
      "min_alpha = float(0.0001)\n",
      "max_alpha = float(0.0035)\n",
      "max_epoch = 5\n",
      "for epoch in range(0, max_epoch):\n",
      "    alpha = max(min_alpha, max_alpha * (1. - (float(epoch) / float(max_epoch))))\n",
      "    model._alpha = alpha\n",
      "    objects, err = model.train(dataset_gen, workers = 8, chunksize = 24)\n",
      "    model.save_model(\"saves/objectlm_window_10_lm_20_objlm_20_%d/\" % (epoch))\n",
      "    print(\"Epoch = %d, Error = %.3f, alpha = %.3f\" % (epoch, err, alpha))"
     ],
     "language": "python",
     "metadata": {},
     "outputs": []
    }
   ],
   "metadata": {}
  }
 ]
}